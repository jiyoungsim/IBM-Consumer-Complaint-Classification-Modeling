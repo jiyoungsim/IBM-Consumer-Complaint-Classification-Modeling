{
 "cells": [
  {
   "cell_type": "markdown",
   "metadata": {
    "colab_type": "text",
    "id": "JjuaJ6cpytF6"
   },
   "source": [
    "### Import Modules"
   ]
  },
  {
   "cell_type": "code",
   "execution_count": 1,
   "metadata": {
    "colab": {
     "base_uri": "https://localhost:8080/",
     "height": 137
    },
    "colab_type": "code",
    "id": "_VmQQ0IxytF8",
    "outputId": "66654790-59cb-4842-a6ea-edb7dc709ca3"
   },
   "outputs": [
    {
     "name": "stdout",
     "output_type": "stream",
     "text": [
      "[nltk_data] Downloading package punkt to /root/nltk_data...\n",
      "[nltk_data]   Unzipping tokenizers/punkt.zip.\n",
      "[nltk_data] Downloading package stopwords to /root/nltk_data...\n",
      "[nltk_data]   Unzipping corpora/stopwords.zip.\n",
      "[nltk_data] Downloading package wordnet to /root/nltk_data...\n",
      "[nltk_data]   Unzipping corpora/wordnet.zip.\n"
     ]
    },
    {
     "data": {
      "text/plain": [
       "True"
      ]
     },
     "execution_count": 1,
     "metadata": {
      "tags": []
     },
     "output_type": "execute_result"
    }
   ],
   "source": [
    "import numpy as np\n",
    "import pandas as pd\n",
    "import datetime as dt\n",
    "\n",
    "# Text\n",
    "import nltk, re, string\n",
    "from nltk import word_tokenize, sent_tokenize\n",
    "from nltk.corpus import stopwords\n",
    "from nltk.stem import WordNetLemmatizer\n",
    "from sklearn.feature_extraction.text import TfidfVectorizer, CountVectorizer\n",
    "\n",
    "nltk.download('punkt')\n",
    "nltk.download('stopwords')\n",
    "nltk.download('wordnet')"
   ]
  },
  {
   "cell_type": "markdown",
   "metadata": {
    "colab_type": "text",
    "id": "9lhiN7aWytGB"
   },
   "source": [
    "### Load Data"
   ]
  },
  {
   "cell_type": "code",
   "execution_count": 3,
   "metadata": {
    "colab": {
     "base_uri": "https://localhost:8080/",
     "height": 34
    },
    "colab_type": "code",
    "id": "GyAMAd0HytGC",
    "outputId": "4c9a8136-a487-4a1b-98a0-0372e78df6c1"
   },
   "outputs": [
    {
     "name": "stdout",
     "output_type": "stream",
     "text": [
      "Mounted at /content/gdrive\n"
     ]
    }
   ],
   "source": [
    "from google.colab import drive\n",
    "drive.mount('/content/gdrive', force_remount = True)\n",
    "processed_df=pd.read_csv('gdrive/My Drive/IBM/processed_df.csv')"
   ]
  },
  {
   "cell_type": "markdown",
   "metadata": {
    "colab_type": "text",
    "id": "g2ypr7S8ytGI"
   },
   "source": [
    "### Tokenize and Stem"
   ]
  },
  {
   "cell_type": "code",
   "execution_count": 4,
   "metadata": {
    "colab": {},
    "colab_type": "code",
    "id": "Eqxk8Nn9ytGK"
   },
   "outputs": [],
   "source": [
    "stemmer = WordNetLemmatizer()\n",
    "\n",
    "def tokenize_and_stem(text):\n",
    "    lowers = text.lower()\n",
    "    tokens = [word for sent in nltk.sent_tokenize(lowers) for word in nltk.word_tokenize(sent)]\n",
    "    filtered_tokens = []\n",
    "    # filter out any tokens not containing letters (e.g., numeric tokens, raw punctuation)\n",
    "    for token in tokens:\n",
    "        if re.search('[a-zA-Z]', token) and not token in stopwords.words('english'):\n",
    "            filtered_tokens.append(re.sub(r'[^\\w\\s]','',token))\n",
    "    stems = [stemmer.lemmatize(t) for t in filtered_tokens]\n",
    "    return stems"
   ]
  },
  {
   "cell_type": "code",
   "execution_count": 5,
   "metadata": {
    "colab": {},
    "colab_type": "code",
    "id": "aWEdSEmgytGP"
   },
   "outputs": [],
   "source": [
    "processed_df['tokenized narrative'] = [tokenize_and_stem(x) for x in processed_df['Consumer complaint narrative']]"
   ]
  },
  {
   "cell_type": "code",
   "execution_count": 17,
   "metadata": {
    "colab": {
     "base_uri": "https://localhost:8080/",
     "height": 349
    },
    "colab_type": "code",
    "id": "bKkH0GCxytGT",
    "outputId": "1c149a00-e3b6-4ee6-a967-6e48ac020d01"
   },
   "outputs": [
    {
     "data": {
      "text/html": [
       "<div>\n",
       "<style scoped>\n",
       "    .dataframe tbody tr th:only-of-type {\n",
       "        vertical-align: middle;\n",
       "    }\n",
       "\n",
       "    .dataframe tbody tr th {\n",
       "        vertical-align: top;\n",
       "    }\n",
       "\n",
       "    .dataframe thead th {\n",
       "        text-align: right;\n",
       "    }\n",
       "</style>\n",
       "<table border=\"1\" class=\"dataframe\">\n",
       "  <thead>\n",
       "    <tr style=\"text-align: right;\">\n",
       "      <th></th>\n",
       "      <th>Sub-product</th>\n",
       "      <th>Consumer complaint narrative</th>\n",
       "      <th>tokenized narrative</th>\n",
       "    </tr>\n",
       "  </thead>\n",
       "  <tbody>\n",
       "    <tr>\n",
       "      <th>0</th>\n",
       "      <td>General-purpose credit card or charge card</td>\n",
       "      <td>CITI BANK in his response to XXXX asked me idi...</td>\n",
       "      <td>[citi, bank, response, xxxx, asked, idiotic, q...</td>\n",
       "    </tr>\n",
       "    <tr>\n",
       "      <th>1</th>\n",
       "      <td>Other debt</td>\n",
       "      <td>THIS ACCOUNT IS A RESULT OF IDENTITY THEFT.</td>\n",
       "      <td>[account, result, identity, theft]</td>\n",
       "    </tr>\n",
       "    <tr>\n",
       "      <th>2</th>\n",
       "      <td>Other debt</td>\n",
       "      <td>Pro Collect has sent documents that dont match...</td>\n",
       "      <td>[pro, collect, sent, document, dont, match, mo...</td>\n",
       "    </tr>\n",
       "    <tr>\n",
       "      <th>3</th>\n",
       "      <td>Medical debt</td>\n",
       "      <td>On XX/XX/2019 I sent PlusFour Inc a certified ...</td>\n",
       "      <td>[xxxx2019, sent, plusfour, inc, certified, let...</td>\n",
       "    </tr>\n",
       "    <tr>\n",
       "      <th>4</th>\n",
       "      <td>Credit card debt</td>\n",
       "      <td>Client Services is reporting negative informat...</td>\n",
       "      <td>[client, service, reporting, negative, informa...</td>\n",
       "    </tr>\n",
       "    <tr>\n",
       "      <th>5</th>\n",
       "      <td>Credit reporting</td>\n",
       "      <td>What they have reported : i was late on a paym...</td>\n",
       "      <td>[reported, late, payment, loan, paid, full, ne...</td>\n",
       "    </tr>\n",
       "    <tr>\n",
       "      <th>6</th>\n",
       "      <td>Other debt</td>\n",
       "      <td>I checked my credit report which shows delinqu...</td>\n",
       "      <td>[checked, credit, report, show, delinquent, co...</td>\n",
       "    </tr>\n",
       "    <tr>\n",
       "      <th>7</th>\n",
       "      <td>Medical debt</td>\n",
       "      <td>I started this journey XX/XX/XXXX of this year...</td>\n",
       "      <td>[started, journey, xxxxxxxx, year, checked, cr...</td>\n",
       "    </tr>\n",
       "    <tr>\n",
       "      <th>8</th>\n",
       "      <td>Medical debt</td>\n",
       "      <td>In XX/XX/XXXX I was approved for 100 % financi...</td>\n",
       "      <td>[xxxxxxxx, approved, financial, aid, xxxx, xxx...</td>\n",
       "    </tr>\n",
       "    <tr>\n",
       "      <th>9</th>\n",
       "      <td>Credit reporting</td>\n",
       "      <td>ARS ACCOUNT RESOLUTIONS are still reporting in...</td>\n",
       "      <td>[ar, account, resolution, still, reporting, in...</td>\n",
       "    </tr>\n",
       "  </tbody>\n",
       "</table>\n",
       "</div>"
      ],
      "text/plain": [
       "                                  Sub-product  ...                                tokenized narrative\n",
       "0  General-purpose credit card or charge card  ...  [citi, bank, response, xxxx, asked, idiotic, q...\n",
       "1                                  Other debt  ...                 [account, result, identity, theft]\n",
       "2                                  Other debt  ...  [pro, collect, sent, document, dont, match, mo...\n",
       "3                                Medical debt  ...  [xxxx2019, sent, plusfour, inc, certified, let...\n",
       "4                            Credit card debt  ...  [client, service, reporting, negative, informa...\n",
       "5                            Credit reporting  ...  [reported, late, payment, loan, paid, full, ne...\n",
       "6                                  Other debt  ...  [checked, credit, report, show, delinquent, co...\n",
       "7                                Medical debt  ...  [started, journey, xxxxxxxx, year, checked, cr...\n",
       "8                                Medical debt  ...  [xxxxxxxx, approved, financial, aid, xxxx, xxx...\n",
       "9                            Credit reporting  ...  [ar, account, resolution, still, reporting, in...\n",
       "\n",
       "[10 rows x 3 columns]"
      ]
     },
     "execution_count": 17,
     "metadata": {
      "tags": []
     },
     "output_type": "execute_result"
    }
   ],
   "source": [
    "processed_df.head(10)"
   ]
  },
  {
   "cell_type": "code",
   "execution_count": 18,
   "metadata": {
    "colab": {},
    "colab_type": "code",
    "id": "1PsWeKJWytGX"
   },
   "outputs": [],
   "source": [
    "processed_df['stemmed narrative']  = processed_df['tokenized narrative'].apply(lambda x: re.sub('x{2,}', '', ' '.join(x)))"
   ]
  },
  {
   "cell_type": "code",
   "execution_count": 19,
   "metadata": {
    "colab": {
     "base_uri": "https://localhost:8080/",
     "height": 198
    },
    "colab_type": "code",
    "id": "o8NFZmabytGa",
    "outputId": "8a9ac8c5-9c2f-45e1-cc64-2dfcfc30d30c"
   },
   "outputs": [
    {
     "data": {
      "text/html": [
       "<div>\n",
       "<style scoped>\n",
       "    .dataframe tbody tr th:only-of-type {\n",
       "        vertical-align: middle;\n",
       "    }\n",
       "\n",
       "    .dataframe tbody tr th {\n",
       "        vertical-align: top;\n",
       "    }\n",
       "\n",
       "    .dataframe thead th {\n",
       "        text-align: right;\n",
       "    }\n",
       "</style>\n",
       "<table border=\"1\" class=\"dataframe\">\n",
       "  <thead>\n",
       "    <tr style=\"text-align: right;\">\n",
       "      <th></th>\n",
       "      <th>Sub-product</th>\n",
       "      <th>Consumer complaint narrative</th>\n",
       "      <th>tokenized narrative</th>\n",
       "      <th>stemmed narrative</th>\n",
       "    </tr>\n",
       "  </thead>\n",
       "  <tbody>\n",
       "    <tr>\n",
       "      <th>0</th>\n",
       "      <td>General-purpose credit card or charge card</td>\n",
       "      <td>CITI BANK in his response to XXXX asked me idi...</td>\n",
       "      <td>[citi, bank, response, xxxx, asked, idiotic, q...</td>\n",
       "      <td>citi bank response  asked idiotic question ina...</td>\n",
       "    </tr>\n",
       "    <tr>\n",
       "      <th>1</th>\n",
       "      <td>Other debt</td>\n",
       "      <td>THIS ACCOUNT IS A RESULT OF IDENTITY THEFT.</td>\n",
       "      <td>[account, result, identity, theft]</td>\n",
       "      <td>account result identity theft</td>\n",
       "    </tr>\n",
       "    <tr>\n",
       "      <th>2</th>\n",
       "      <td>Other debt</td>\n",
       "      <td>Pro Collect has sent documents that dont match...</td>\n",
       "      <td>[pro, collect, sent, document, dont, match, mo...</td>\n",
       "      <td>pro collect sent document dont match move date...</td>\n",
       "    </tr>\n",
       "    <tr>\n",
       "      <th>3</th>\n",
       "      <td>Medical debt</td>\n",
       "      <td>On XX/XX/2019 I sent PlusFour Inc a certified ...</td>\n",
       "      <td>[xxxx2019, sent, plusfour, inc, certified, let...</td>\n",
       "      <td>2019 sent plusfour inc certified letter via us...</td>\n",
       "    </tr>\n",
       "    <tr>\n",
       "      <th>4</th>\n",
       "      <td>Credit card debt</td>\n",
       "      <td>Client Services is reporting negative informat...</td>\n",
       "      <td>[client, service, reporting, negative, informa...</td>\n",
       "      <td>client service reporting negative information ...</td>\n",
       "    </tr>\n",
       "  </tbody>\n",
       "</table>\n",
       "</div>"
      ],
      "text/plain": [
       "                                  Sub-product  ...                                  stemmed narrative\n",
       "0  General-purpose credit card or charge card  ...  citi bank response  asked idiotic question ina...\n",
       "1                                  Other debt  ...                      account result identity theft\n",
       "2                                  Other debt  ...  pro collect sent document dont match move date...\n",
       "3                                Medical debt  ...  2019 sent plusfour inc certified letter via us...\n",
       "4                            Credit card debt  ...  client service reporting negative information ...\n",
       "\n",
       "[5 rows x 4 columns]"
      ]
     },
     "execution_count": 19,
     "metadata": {
      "tags": []
     },
     "output_type": "execute_result"
    }
   ],
   "source": [
    "processed_df.head()"
   ]
  },
  {
   "cell_type": "code",
   "execution_count": 20,
   "metadata": {
    "colab": {
     "base_uri": "https://localhost:8080/",
     "height": 198
    },
    "colab_type": "code",
    "id": "STI-la9BytGi",
    "outputId": "b24d0a56-24fd-4c19-ac76-3f56f9884bfe"
   },
   "outputs": [
    {
     "data": {
      "text/html": [
       "<div>\n",
       "<style scoped>\n",
       "    .dataframe tbody tr th:only-of-type {\n",
       "        vertical-align: middle;\n",
       "    }\n",
       "\n",
       "    .dataframe tbody tr th {\n",
       "        vertical-align: top;\n",
       "    }\n",
       "\n",
       "    .dataframe thead th {\n",
       "        text-align: right;\n",
       "    }\n",
       "</style>\n",
       "<table border=\"1\" class=\"dataframe\">\n",
       "  <thead>\n",
       "    <tr style=\"text-align: right;\">\n",
       "      <th></th>\n",
       "      <th>Sub-product</th>\n",
       "      <th>Consumer complaint narrative</th>\n",
       "      <th>stemmed narrative</th>\n",
       "    </tr>\n",
       "  </thead>\n",
       "  <tbody>\n",
       "    <tr>\n",
       "      <th>0</th>\n",
       "      <td>General-purpose credit card or charge card</td>\n",
       "      <td>CITI BANK in his response to XXXX asked me idi...</td>\n",
       "      <td>citi bank response  asked idiotic question ina...</td>\n",
       "    </tr>\n",
       "    <tr>\n",
       "      <th>1</th>\n",
       "      <td>Other debt</td>\n",
       "      <td>THIS ACCOUNT IS A RESULT OF IDENTITY THEFT.</td>\n",
       "      <td>account result identity theft</td>\n",
       "    </tr>\n",
       "    <tr>\n",
       "      <th>2</th>\n",
       "      <td>Other debt</td>\n",
       "      <td>Pro Collect has sent documents that dont match...</td>\n",
       "      <td>pro collect sent document dont match move date...</td>\n",
       "    </tr>\n",
       "    <tr>\n",
       "      <th>3</th>\n",
       "      <td>Medical debt</td>\n",
       "      <td>On XX/XX/2019 I sent PlusFour Inc a certified ...</td>\n",
       "      <td>2019 sent plusfour inc certified letter via us...</td>\n",
       "    </tr>\n",
       "    <tr>\n",
       "      <th>4</th>\n",
       "      <td>Credit card debt</td>\n",
       "      <td>Client Services is reporting negative informat...</td>\n",
       "      <td>client service reporting negative information ...</td>\n",
       "    </tr>\n",
       "  </tbody>\n",
       "</table>\n",
       "</div>"
      ],
      "text/plain": [
       "                                  Sub-product  ...                                  stemmed narrative\n",
       "0  General-purpose credit card or charge card  ...  citi bank response  asked idiotic question ina...\n",
       "1                                  Other debt  ...                      account result identity theft\n",
       "2                                  Other debt  ...  pro collect sent document dont match move date...\n",
       "3                                Medical debt  ...  2019 sent plusfour inc certified letter via us...\n",
       "4                            Credit card debt  ...  client service reporting negative information ...\n",
       "\n",
       "[5 rows x 3 columns]"
      ]
     },
     "execution_count": 20,
     "metadata": {
      "tags": []
     },
     "output_type": "execute_result"
    }
   ],
   "source": [
    "processed_df.drop('tokenized narrative', axis=1, inplace=True)\n",
    "processed_df.head()"
   ]
  },
  {
   "cell_type": "code",
   "execution_count": 21,
   "metadata": {
    "colab": {},
    "colab_type": "code",
    "id": "c2NfCR3RytGl"
   },
   "outputs": [],
   "source": [
    "from google.colab import files\n",
    "\n",
    "processed_df.to_csv('lemmatized.csv', index = False)\n",
    "files.download('lemmatized.csv')"
   ]
  },
  {
   "cell_type": "code",
   "execution_count": null,
   "metadata": {
    "colab": {},
    "colab_type": "code",
    "id": "jQRWHuWzAl-e"
   },
   "outputs": [],
   "source": []
  }
 ],
 "metadata": {
  "colab": {
   "name": "Preprocessing-Lemmatize.ipynb",
   "provenance": []
  },
  "kernelspec": {
   "display_name": "Python 3",
   "language": "python",
   "name": "python3"
  },
  "language_info": {
   "codemirror_mode": {
    "name": "ipython",
    "version": 3
   },
   "file_extension": ".py",
   "mimetype": "text/x-python",
   "name": "python",
   "nbconvert_exporter": "python",
   "pygments_lexer": "ipython3",
   "version": "3.7.3"
  }
 },
 "nbformat": 4,
 "nbformat_minor": 1
}
