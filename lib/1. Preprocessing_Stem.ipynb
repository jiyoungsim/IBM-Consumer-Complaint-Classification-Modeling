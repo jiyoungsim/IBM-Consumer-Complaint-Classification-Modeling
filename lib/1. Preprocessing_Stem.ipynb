{
  "nbformat": 4,
  "nbformat_minor": 0,
  "metadata": {
    "kernelspec": {
      "display_name": "Python 3",
      "language": "python",
      "name": "python3"
    },
    "colab": {
      "name": "Preprocessing-Stem.ipynb",
      "provenance": []
    }
  },
  "cells": [
    {
      "cell_type": "markdown",
      "metadata": {
        "id": "H5fuJ0HWDulb",
        "colab_type": "text"
      },
      "source": [
        "### Import Modules"
      ]
    },
    {
      "cell_type": "code",
      "metadata": {
        "id": "sPiVTuoGDuld",
        "colab_type": "code",
        "colab": {
          "base_uri": "https://localhost:8080/",
          "height": 102
        },
        "outputId": "5812005c-0f5a-410c-8897-46bb2805e54f"
      },
      "source": [
        "import numpy as np\n",
        "import pandas as pd\n",
        "import datetime as dt\n",
        "import matplotlib.pyplot as plt\n",
        "%matplotlib inline\n",
        "\n",
        "# Text\n",
        "import nltk, re\n",
        "from nltk import word_tokenize, sent_tokenize\n",
        "from nltk.corpus import stopwords\n",
        "from nltk.stem.porter import PorterStemmer\n",
        "from sklearn.feature_extraction.text import TfidfVectorizer, CountVectorizer\n",
        "\n",
        "nltk.download('punkt')\n",
        "nltk.download('stopwords')"
      ],
      "execution_count": 1,
      "outputs": [
        {
          "output_type": "stream",
          "text": [
            "[nltk_data] Downloading package punkt to /root/nltk_data...\n",
            "[nltk_data]   Package punkt is already up-to-date!\n",
            "[nltk_data] Downloading package stopwords to /root/nltk_data...\n",
            "[nltk_data]   Package stopwords is already up-to-date!\n"
          ],
          "name": "stdout"
        },
        {
          "output_type": "execute_result",
          "data": {
            "text/plain": [
              "True"
            ]
          },
          "metadata": {
            "tags": []
          },
          "execution_count": 1
        }
      ]
    },
    {
      "cell_type": "markdown",
      "metadata": {
        "id": "E45jklRfDull",
        "colab_type": "text"
      },
      "source": [
        "### Load Data"
      ]
    },
    {
      "cell_type": "code",
      "metadata": {
        "id": "yg5GMFguDulm",
        "colab_type": "code",
        "colab": {
          "base_uri": "https://localhost:8080/",
          "height": 68
        },
        "outputId": "6f9ffd20-5f7b-4e08-eaf1-738f690658c1"
      },
      "source": [
        "from google.colab import drive\n",
        "drive.mount('/content/gdrive', force_remount = True)\n",
        "df = pd.read_csv('gdrive/My Drive/IBM/Consumer_Complaints.csv', parse_dates = ['Date received', 'Date sent to company'])"
      ],
      "execution_count": 2,
      "outputs": [
        {
          "output_type": "stream",
          "text": [
            "Mounted at /content/gdrive\n"
          ],
          "name": "stdout"
        },
        {
          "output_type": "stream",
          "text": [
            "/usr/local/lib/python3.6/dist-packages/IPython/core/interactiveshell.py:2718: DtypeWarning: Columns (5,6,11,16) have mixed types.Specify dtype option on import or set low_memory=False.\n",
            "  interactivity=interactivity, compiler=compiler, result=result)\n"
          ],
          "name": "stderr"
        }
      ]
    },
    {
      "cell_type": "code",
      "metadata": {
        "id": "bV3B2kCkDulr",
        "colab_type": "code",
        "colab": {
          "base_uri": "https://localhost:8080/",
          "height": 696
        },
        "outputId": "f2855bf7-937c-49d5-cd66-877a64229ff4"
      },
      "source": [
        "df.head()"
      ],
      "execution_count": 3,
      "outputs": [
        {
          "output_type": "execute_result",
          "data": {
            "text/html": [
              "<div>\n",
              "<style scoped>\n",
              "    .dataframe tbody tr th:only-of-type {\n",
              "        vertical-align: middle;\n",
              "    }\n",
              "\n",
              "    .dataframe tbody tr th {\n",
              "        vertical-align: top;\n",
              "    }\n",
              "\n",
              "    .dataframe thead th {\n",
              "        text-align: right;\n",
              "    }\n",
              "</style>\n",
              "<table border=\"1\" class=\"dataframe\">\n",
              "  <thead>\n",
              "    <tr style=\"text-align: right;\">\n",
              "      <th></th>\n",
              "      <th>Date received</th>\n",
              "      <th>Product</th>\n",
              "      <th>Sub-product</th>\n",
              "      <th>Issue</th>\n",
              "      <th>Sub-issue</th>\n",
              "      <th>Consumer complaint narrative</th>\n",
              "      <th>Company public response</th>\n",
              "      <th>Company</th>\n",
              "      <th>State</th>\n",
              "      <th>ZIP code</th>\n",
              "      <th>Tags</th>\n",
              "      <th>Consumer consent provided?</th>\n",
              "      <th>Submitted via</th>\n",
              "      <th>Date sent to company</th>\n",
              "      <th>Company response to consumer</th>\n",
              "      <th>Timely response?</th>\n",
              "      <th>Consumer disputed?</th>\n",
              "      <th>Complaint ID</th>\n",
              "    </tr>\n",
              "  </thead>\n",
              "  <tbody>\n",
              "    <tr>\n",
              "      <th>0</th>\n",
              "      <td>2019-10-05</td>\n",
              "      <td>Credit reporting, credit repair services, or o...</td>\n",
              "      <td>Credit reporting</td>\n",
              "      <td>Incorrect information on your report</td>\n",
              "      <td>Information belongs to someone else</td>\n",
              "      <td>NaN</td>\n",
              "      <td>NaN</td>\n",
              "      <td>EQUIFAX, INC.</td>\n",
              "      <td>PA</td>\n",
              "      <td>19143</td>\n",
              "      <td>NaN</td>\n",
              "      <td>NaN</td>\n",
              "      <td>Web</td>\n",
              "      <td>2019-10-05</td>\n",
              "      <td>Closed with explanation</td>\n",
              "      <td>Yes</td>\n",
              "      <td>NaN</td>\n",
              "      <td>3396561</td>\n",
              "    </tr>\n",
              "    <tr>\n",
              "      <th>1</th>\n",
              "      <td>2019-10-05</td>\n",
              "      <td>Credit reporting, credit repair services, or o...</td>\n",
              "      <td>Credit reporting</td>\n",
              "      <td>Incorrect information on your report</td>\n",
              "      <td>Information belongs to someone else</td>\n",
              "      <td>NaN</td>\n",
              "      <td>NaN</td>\n",
              "      <td>EQUIFAX, INC.</td>\n",
              "      <td>FL</td>\n",
              "      <td>334XX</td>\n",
              "      <td>NaN</td>\n",
              "      <td>NaN</td>\n",
              "      <td>Web</td>\n",
              "      <td>2019-10-05</td>\n",
              "      <td>Closed with explanation</td>\n",
              "      <td>Yes</td>\n",
              "      <td>NaN</td>\n",
              "      <td>3396616</td>\n",
              "    </tr>\n",
              "    <tr>\n",
              "      <th>2</th>\n",
              "      <td>2019-10-05</td>\n",
              "      <td>Credit reporting, credit repair services, or o...</td>\n",
              "      <td>Credit reporting</td>\n",
              "      <td>Problem with a credit reporting company's inve...</td>\n",
              "      <td>Their investigation did not fix an error on yo...</td>\n",
              "      <td>NaN</td>\n",
              "      <td>NaN</td>\n",
              "      <td>EQUIFAX, INC.</td>\n",
              "      <td>MS</td>\n",
              "      <td>39401</td>\n",
              "      <td>Servicemember</td>\n",
              "      <td>NaN</td>\n",
              "      <td>Web</td>\n",
              "      <td>2019-10-05</td>\n",
              "      <td>Closed with explanation</td>\n",
              "      <td>Yes</td>\n",
              "      <td>NaN</td>\n",
              "      <td>3396602</td>\n",
              "    </tr>\n",
              "    <tr>\n",
              "      <th>3</th>\n",
              "      <td>2019-10-05</td>\n",
              "      <td>Credit reporting, credit repair services, or o...</td>\n",
              "      <td>Credit reporting</td>\n",
              "      <td>Incorrect information on your report</td>\n",
              "      <td>Information belongs to someone else</td>\n",
              "      <td>NaN</td>\n",
              "      <td>NaN</td>\n",
              "      <td>EQUIFAX, INC.</td>\n",
              "      <td>MA</td>\n",
              "      <td>01109</td>\n",
              "      <td>NaN</td>\n",
              "      <td>NaN</td>\n",
              "      <td>Web</td>\n",
              "      <td>2019-10-05</td>\n",
              "      <td>Closed with explanation</td>\n",
              "      <td>Yes</td>\n",
              "      <td>NaN</td>\n",
              "      <td>3396599</td>\n",
              "    </tr>\n",
              "    <tr>\n",
              "      <th>4</th>\n",
              "      <td>2019-10-05</td>\n",
              "      <td>Credit reporting, credit repair services, or o...</td>\n",
              "      <td>Credit reporting</td>\n",
              "      <td>Incorrect information on your report</td>\n",
              "      <td>Information belongs to someone else</td>\n",
              "      <td>NaN</td>\n",
              "      <td>NaN</td>\n",
              "      <td>EQUIFAX, INC.</td>\n",
              "      <td>PA</td>\n",
              "      <td>19135</td>\n",
              "      <td>NaN</td>\n",
              "      <td>NaN</td>\n",
              "      <td>Web</td>\n",
              "      <td>2019-10-05</td>\n",
              "      <td>Closed with explanation</td>\n",
              "      <td>Yes</td>\n",
              "      <td>NaN</td>\n",
              "      <td>3396589</td>\n",
              "    </tr>\n",
              "  </tbody>\n",
              "</table>\n",
              "</div>"
            ],
            "text/plain": [
              "  Date received  ... Complaint ID\n",
              "0    2019-10-05  ...      3396561\n",
              "1    2019-10-05  ...      3396616\n",
              "2    2019-10-05  ...      3396602\n",
              "3    2019-10-05  ...      3396599\n",
              "4    2019-10-05  ...      3396589\n",
              "\n",
              "[5 rows x 18 columns]"
            ]
          },
          "metadata": {
            "tags": []
          },
          "execution_count": 3
        }
      ]
    },
    {
      "cell_type": "code",
      "metadata": {
        "id": "kqc-RC5tDulx",
        "colab_type": "code",
        "colab": {
          "base_uri": "https://localhost:8080/",
          "height": 34
        },
        "outputId": "5cfa2d60-7a9c-4153-dbcf-161248ad0a91"
      },
      "source": [
        "len(df)"
      ],
      "execution_count": 4,
      "outputs": [
        {
          "output_type": "execute_result",
          "data": {
            "text/plain": [
              "1400038"
            ]
          },
          "metadata": {
            "tags": []
          },
          "execution_count": 4
        }
      ]
    },
    {
      "cell_type": "markdown",
      "metadata": {
        "id": "KGDPEhmlDul1",
        "colab_type": "text"
      },
      "source": [
        "### Plot Each Category by Date"
      ]
    },
    {
      "cell_type": "code",
      "metadata": {
        "id": "OVX_A63aDul1",
        "colab_type": "code",
        "colab": {}
      },
      "source": [
        "df['Date received'] = df['Date received'].dt.date"
      ],
      "execution_count": 5,
      "outputs": []
    },
    {
      "cell_type": "code",
      "metadata": {
        "id": "13XyGY2XDul5",
        "colab_type": "code",
        "colab": {}
      },
      "source": [
        "group_df = df.groupby(['Date received','Sub-product']).count()['Consumer complaint narrative'].unstack()"
      ],
      "execution_count": 6,
      "outputs": []
    },
    {
      "cell_type": "code",
      "metadata": {
        "id": "gqwMzaVmDul9",
        "colab_type": "code",
        "colab": {
          "base_uri": "https://localhost:8080/",
          "height": 621
        },
        "outputId": "6da9daa0-7ade-4745-e243-8dfd63993395"
      },
      "source": [
        "plot = group_df.plot(legend=False, figsize=(20,10))\n",
        "plot.set_ylabel('count')\n",
        "plot.set_title('Product Sub-categories by Date')\n",
        "plot.set_xlim(left=dt.date(2015,1,1));"
      ],
      "execution_count": 7,
      "outputs": [
        {
          "output_type": "display_data",
          "data": {
            "image/png": "[encoded data removed]",
            "text/plain": [
              "<Figure size 1440x720 with 1 Axes>"
            ]
          },
          "metadata": {
            "tags": [],
            "needs_background": "light"
          }
        }
      ]
    },
    {
      "cell_type": "markdown",
      "metadata": {
        "id": "ytTbt7vkDumD",
        "colab_type": "text"
      },
      "source": [
        "### Get Product Category List\n",
        "From the above plot we can see that product categories have been updated, so not all categories in the data are present at the moment. Let's analyze when the first and the last comments were received for each product category."
      ]
    },
    {
      "cell_type": "code",
      "metadata": {
        "id": "qGV1ZE29DumE",
        "colab_type": "code",
        "colab": {
          "base_uri": "https://localhost:8080/",
          "height": 438
        },
        "outputId": "bf73581d-a6c4-43c9-ec04-43ce850ff6ac"
      },
      "source": [
        "product_group = df.groupby('Sub-product')\n",
        "product_group[['Date received']].max().merge(product_group[['Date received']].min(), left_index=True, right_index=True, suffixes=('_max','_min')).sort_values(by=['Date received_max', 'Date received_min'], ascending=False)"
      ],
      "execution_count": 8,
      "outputs": [
        {
          "output_type": "execute_result",
          "data": {
            "text/html": [
              "<div>\n",
              "<style scoped>\n",
              "    .dataframe tbody tr th:only-of-type {\n",
              "        vertical-align: middle;\n",
              "    }\n",
              "\n",
              "    .dataframe tbody tr th {\n",
              "        vertical-align: top;\n",
              "    }\n",
              "\n",
              "    .dataframe thead th {\n",
              "        text-align: right;\n",
              "    }\n",
              "</style>\n",
              "<table border=\"1\" class=\"dataframe\">\n",
              "  <thead>\n",
              "    <tr style=\"text-align: right;\">\n",
              "      <th></th>\n",
              "      <th>Date received_max</th>\n",
              "      <th>Date received_min</th>\n",
              "    </tr>\n",
              "    <tr>\n",
              "      <th>Sub-product</th>\n",
              "      <th></th>\n",
              "      <th></th>\n",
              "    </tr>\n",
              "  </thead>\n",
              "  <tbody>\n",
              "    <tr>\n",
              "      <th>Credit reporting</th>\n",
              "      <td>2019-10-05</td>\n",
              "      <td>2017-04-24</td>\n",
              "    </tr>\n",
              "    <tr>\n",
              "      <th>Credit card debt</th>\n",
              "      <td>2019-10-04</td>\n",
              "      <td>2017-04-24</td>\n",
              "    </tr>\n",
              "    <tr>\n",
              "      <th>Loan</th>\n",
              "      <td>2019-10-04</td>\n",
              "      <td>2017-04-24</td>\n",
              "    </tr>\n",
              "    <tr>\n",
              "      <th>I do not know</th>\n",
              "      <td>2019-10-04</td>\n",
              "      <td>2013-07-10</td>\n",
              "    </tr>\n",
              "    <tr>\n",
              "      <th>Checking account</th>\n",
              "      <td>2019-10-04</td>\n",
              "      <td>2012-03-01</td>\n",
              "    </tr>\n",
              "    <tr>\n",
              "      <th>...</th>\n",
              "      <td>...</td>\n",
              "      <td>...</td>\n",
              "    </tr>\n",
              "    <tr>\n",
              "      <th>Traveler’s/Cashier’s checks</th>\n",
              "      <td>2017-04-12</td>\n",
              "      <td>2014-07-23</td>\n",
              "    </tr>\n",
              "    <tr>\n",
              "      <th>Transit card</th>\n",
              "      <td>2017-04-08</td>\n",
              "      <td>2014-08-10</td>\n",
              "    </tr>\n",
              "    <tr>\n",
              "      <th>Electronic Benefit Transfer / EBT card</th>\n",
              "      <td>2017-04-06</td>\n",
              "      <td>2014-11-06</td>\n",
              "    </tr>\n",
              "    <tr>\n",
              "      <th>Other special purpose card</th>\n",
              "      <td>2017-04-05</td>\n",
              "      <td>2014-08-06</td>\n",
              "    </tr>\n",
              "    <tr>\n",
              "      <th>Second mortgage</th>\n",
              "      <td>2016-03-10</td>\n",
              "      <td>2011-12-16</td>\n",
              "    </tr>\n",
              "  </tbody>\n",
              "</table>\n",
              "<p>76 rows × 2 columns</p>\n",
              "</div>"
            ],
            "text/plain": [
              "                                       Date received_max Date received_min\n",
              "Sub-product                                                               \n",
              "Credit reporting                              2019-10-05        2017-04-24\n",
              "Credit card debt                              2019-10-04        2017-04-24\n",
              "Loan                                          2019-10-04        2017-04-24\n",
              "I do not know                                 2019-10-04        2013-07-10\n",
              "Checking account                              2019-10-04        2012-03-01\n",
              "...                                                  ...               ...\n",
              "Traveler’s/Cashier’s checks                   2017-04-12        2014-07-23\n",
              "Transit card                                  2017-04-08        2014-08-10\n",
              "Electronic Benefit Transfer / EBT card        2017-04-06        2014-11-06\n",
              "Other special purpose card                    2017-04-05        2014-08-06\n",
              "Second mortgage                               2016-03-10        2011-12-16\n",
              "\n",
              "[76 rows x 2 columns]"
            ]
          },
          "metadata": {
            "tags": []
          },
          "execution_count": 8
        }
      ]
    },
    {
      "cell_type": "markdown",
      "metadata": {
        "id": "jIsbcg2YDumJ",
        "colab_type": "text"
      },
      "source": [
        "List of active categories today are as follows:"
      ]
    },
    {
      "cell_type": "code",
      "metadata": {
        "id": "LiBVC1k0DumK",
        "colab_type": "code",
        "colab": {
          "base_uri": "https://localhost:8080/",
          "height": 34
        },
        "outputId": "5df60439-d5c6-4bbd-c6c6-23e6f991603e"
      },
      "source": [
        "subproducts = list(df.loc[df['Date received'] > dt.date(2019, 1, 1),'Sub-product'].unique())\n",
        "len(subproducts)"
      ],
      "execution_count": 9,
      "outputs": [
        {
          "output_type": "execute_result",
          "data": {
            "text/plain": [
              "48"
            ]
          },
          "metadata": {
            "tags": []
          },
          "execution_count": 9
        }
      ]
    },
    {
      "cell_type": "code",
      "metadata": {
        "id": "KuNd5YMHDumN",
        "colab_type": "code",
        "colab": {
          "base_uri": "https://localhost:8080/",
          "height": 837
        },
        "outputId": "2cc281a3-08c5-4468-b4e2-026625477da7"
      },
      "source": [
        "subproducts"
      ],
      "execution_count": 10,
      "outputs": [
        {
          "output_type": "execute_result",
          "data": {
            "text/plain": [
              "['Credit reporting',\n",
              " 'I do not know',\n",
              " 'Loan',\n",
              " 'Checking account',\n",
              " 'Credit card debt',\n",
              " 'Other banking product or service',\n",
              " 'Other debt',\n",
              " 'Payday loan debt',\n",
              " 'Medical debt',\n",
              " 'FHA mortgage',\n",
              " 'Conventional home mortgage',\n",
              " 'Other personal consumer report',\n",
              " 'General-purpose credit card or charge card',\n",
              " 'Title loan',\n",
              " 'Installment loan',\n",
              " 'Auto debt',\n",
              " 'Lease',\n",
              " 'Savings account',\n",
              " 'Store credit card',\n",
              " 'Federal student loan servicing',\n",
              " 'Personal line of credit',\n",
              " 'Private student loan debt',\n",
              " 'Mobile or digital wallet',\n",
              " 'VA mortgage',\n",
              " 'General-purpose prepaid card',\n",
              " 'Payday loan',\n",
              " 'Money order',\n",
              " 'Mortgage debt',\n",
              " 'Private student loan',\n",
              " 'Domestic (US) money transfer',\n",
              " 'Other type of mortgage',\n",
              " 'Debt settlement',\n",
              " 'Credit repair services',\n",
              " 'Payroll card',\n",
              " 'Virtual currency',\n",
              " 'CD (Certificate of Deposit)',\n",
              " 'Home equity loan or line of credit (HELOC)',\n",
              " 'Pawn loan',\n",
              " 'Reverse mortgage',\n",
              " 'International money transfer',\n",
              " 'Federal student loan debt',\n",
              " 'Government benefit card',\n",
              " 'Check cashing service',\n",
              " 'Gift card',\n",
              " \"Traveler's check or cashier's check\",\n",
              " 'Foreign currency exchange',\n",
              " 'Refund anticipation check',\n",
              " 'Student prepaid card']"
            ]
          },
          "metadata": {
            "tags": []
          },
          "execution_count": 10
        }
      ]
    },
    {
      "cell_type": "markdown",
      "metadata": {
        "id": "QGYt1nX5DumQ",
        "colab_type": "text"
      },
      "source": [
        "Remove 'I do not know' from product category."
      ]
    },
    {
      "cell_type": "code",
      "metadata": {
        "id": "dJk9SW7gDumR",
        "colab_type": "code",
        "colab": {
          "base_uri": "https://localhost:8080/",
          "height": 35
        },
        "outputId": "6c9ed04a-8ebf-4101-e821-e6dddd2626fa"
      },
      "source": [
        "subproducts.pop(subproducts.index('I do not know'))"
      ],
      "execution_count": 11,
      "outputs": [
        {
          "output_type": "execute_result",
          "data": {
            "application/vnd.google.colaboratory.intrinsic": {
              "type": "string"
            },
            "text/plain": [
              "'I do not know'"
            ]
          },
          "metadata": {
            "tags": []
          },
          "execution_count": 11
        }
      ]
    },
    {
      "cell_type": "code",
      "metadata": {
        "id": "UcbkOHfCDumV",
        "colab_type": "code",
        "colab": {
          "base_uri": "https://localhost:8080/",
          "height": 34
        },
        "outputId": "991f7d5b-23c5-41c2-c9b9-aa94f346b719"
      },
      "source": [
        "len(subproducts)"
      ],
      "execution_count": 12,
      "outputs": [
        {
          "output_type": "execute_result",
          "data": {
            "text/plain": [
              "47"
            ]
          },
          "metadata": {
            "tags": []
          },
          "execution_count": 12
        }
      ]
    },
    {
      "cell_type": "markdown",
      "metadata": {
        "id": "SJndBZf-Dumb",
        "colab_type": "text"
      },
      "source": [
        "Handle null for product category. Look at parent category to see if we can get the omitted product category from there."
      ]
    },
    {
      "cell_type": "code",
      "metadata": {
        "id": "HTvaTXccDumc",
        "colab_type": "code",
        "colab": {
          "base_uri": "https://localhost:8080/",
          "height": 34
        },
        "outputId": "e604221f-c146-46d3-859f-2f9e56335355"
      },
      "source": [
        "df.loc[df['Sub-product'].isnull(), 'Product'].unique()"
      ],
      "execution_count": 13,
      "outputs": [
        {
          "output_type": "execute_result",
          "data": {
            "text/plain": [
              "array(['Credit reporting', 'Credit card', 'Payday loan'], dtype=object)"
            ]
          },
          "metadata": {
            "tags": []
          },
          "execution_count": 13
        }
      ]
    },
    {
      "cell_type": "markdown",
      "metadata": {
        "id": "lOawZJwqDume",
        "colab_type": "text"
      },
      "source": [
        "Since null data in 'Credit card' parent category have two possible categories it can fall into ('General-purpose credit or charge card' and 'Store credit card'), we will exclude these data points."
      ]
    },
    {
      "cell_type": "code",
      "metadata": {
        "id": "Inv89UQ1Dumf",
        "colab_type": "code",
        "colab": {
          "base_uri": "https://localhost:8080/",
          "height": 34
        },
        "outputId": "201deff4-9d99-421c-fe17-9465340ab090"
      },
      "source": [
        "df.loc[df['Product']=='Credit card', 'Sub-product'].unique()"
      ],
      "execution_count": 14,
      "outputs": [
        {
          "output_type": "execute_result",
          "data": {
            "text/plain": [
              "array([nan], dtype=object)"
            ]
          },
          "metadata": {
            "tags": []
          },
          "execution_count": 14
        }
      ]
    },
    {
      "cell_type": "code",
      "metadata": {
        "id": "AFWPyk1uDumh",
        "colab_type": "code",
        "colab": {
          "base_uri": "https://localhost:8080/",
          "height": 34
        },
        "outputId": "6dfb20cd-ba16-4310-cef8-e242240639ae"
      },
      "source": [
        "df.loc[df['Sub-product']=='General-purpose credit card or charge card', 'Product'].unique()"
      ],
      "execution_count": 15,
      "outputs": [
        {
          "output_type": "execute_result",
          "data": {
            "text/plain": [
              "array(['Credit card or prepaid card'], dtype=object)"
            ]
          },
          "metadata": {
            "tags": []
          },
          "execution_count": 15
        }
      ]
    },
    {
      "cell_type": "code",
      "metadata": {
        "id": "ZmhQ3maZDumk",
        "colab_type": "code",
        "colab": {
          "base_uri": "https://localhost:8080/",
          "height": 34
        },
        "outputId": "7209905a-7af4-4eac-b3b4-2c11ba364079"
      },
      "source": [
        "df.loc[df['Sub-product']=='Store credit card', 'Product'].unique()"
      ],
      "execution_count": 16,
      "outputs": [
        {
          "output_type": "execute_result",
          "data": {
            "text/plain": [
              "array(['Credit card or prepaid card'], dtype=object)"
            ]
          },
          "metadata": {
            "tags": []
          },
          "execution_count": 16
        }
      ]
    },
    {
      "cell_type": "markdown",
      "metadata": {
        "id": "-vt-FMMBDumn",
        "colab_type": "text"
      },
      "source": [
        "For parent categories 'Credit reporting' and 'Payday loan', we have the exact same categories in our product category list, so we sill assign them accordingly."
      ]
    },
    {
      "cell_type": "code",
      "metadata": {
        "id": "ExVi3Q4jDumn",
        "colab_type": "code",
        "colab": {}
      },
      "source": [
        "df.loc[df['Product']=='Credit reporting', 'Sub-product'] = 'Credit reporting'\n",
        "df.loc[df['Product']=='Payday loan', 'Sub-product'] = 'Payday loan'"
      ],
      "execution_count": 17,
      "outputs": []
    },
    {
      "cell_type": "markdown",
      "metadata": {
        "id": "s3vNs-63Dumq",
        "colab_type": "text"
      },
      "source": [
        "### Get Updated Data\n",
        "Only include data that fall into active categories."
      ]
    },
    {
      "cell_type": "code",
      "metadata": {
        "id": "4LsK9yqFDumq",
        "colab_type": "code",
        "colab": {
          "base_uri": "https://localhost:8080/",
          "height": 198
        },
        "outputId": "cad4b384-ffb8-4cc6-a35f-7bf6403e885a"
      },
      "source": [
        "processed_df = df[[x in subproducts for x in df['Sub-product']]]\n",
        "processed_df = processed_df[['Sub-product', 'Consumer complaint narrative']]\n",
        "processed_df.head()"
      ],
      "execution_count": 18,
      "outputs": [
        {
          "output_type": "execute_result",
          "data": {
            "text/html": [
              "<div>\n",
              "<style scoped>\n",
              "    .dataframe tbody tr th:only-of-type {\n",
              "        vertical-align: middle;\n",
              "    }\n",
              "\n",
              "    .dataframe tbody tr th {\n",
              "        vertical-align: top;\n",
              "    }\n",
              "\n",
              "    .dataframe thead th {\n",
              "        text-align: right;\n",
              "    }\n",
              "</style>\n",
              "<table border=\"1\" class=\"dataframe\">\n",
              "  <thead>\n",
              "    <tr style=\"text-align: right;\">\n",
              "      <th></th>\n",
              "      <th>Sub-product</th>\n",
              "      <th>Consumer complaint narrative</th>\n",
              "    </tr>\n",
              "  </thead>\n",
              "  <tbody>\n",
              "    <tr>\n",
              "      <th>0</th>\n",
              "      <td>Credit reporting</td>\n",
              "      <td>NaN</td>\n",
              "    </tr>\n",
              "    <tr>\n",
              "      <th>1</th>\n",
              "      <td>Credit reporting</td>\n",
              "      <td>NaN</td>\n",
              "    </tr>\n",
              "    <tr>\n",
              "      <th>2</th>\n",
              "      <td>Credit reporting</td>\n",
              "      <td>NaN</td>\n",
              "    </tr>\n",
              "    <tr>\n",
              "      <th>3</th>\n",
              "      <td>Credit reporting</td>\n",
              "      <td>NaN</td>\n",
              "    </tr>\n",
              "    <tr>\n",
              "      <th>4</th>\n",
              "      <td>Credit reporting</td>\n",
              "      <td>NaN</td>\n",
              "    </tr>\n",
              "  </tbody>\n",
              "</table>\n",
              "</div>"
            ],
            "text/plain": [
              "        Sub-product Consumer complaint narrative\n",
              "0  Credit reporting                          NaN\n",
              "1  Credit reporting                          NaN\n",
              "2  Credit reporting                          NaN\n",
              "3  Credit reporting                          NaN\n",
              "4  Credit reporting                          NaN"
            ]
          },
          "metadata": {
            "tags": []
          },
          "execution_count": 18
        }
      ]
    },
    {
      "cell_type": "markdown",
      "metadata": {
        "id": "KRXDOpPnDumt",
        "colab_type": "text"
      },
      "source": [
        "Drop data points without narratives."
      ]
    },
    {
      "cell_type": "code",
      "metadata": {
        "id": "AnoM7EE9Dumt",
        "colab_type": "code",
        "colab": {
          "base_uri": "https://localhost:8080/",
          "height": 198
        },
        "outputId": "eaf684e3-b76e-4d42-f619-ca0dc4b93d78"
      },
      "source": [
        "processed_df.dropna(0, inplace = True)\n",
        "processed_df.head()"
      ],
      "execution_count": 19,
      "outputs": [
        {
          "output_type": "execute_result",
          "data": {
            "text/html": [
              "<div>\n",
              "<style scoped>\n",
              "    .dataframe tbody tr th:only-of-type {\n",
              "        vertical-align: middle;\n",
              "    }\n",
              "\n",
              "    .dataframe tbody tr th {\n",
              "        vertical-align: top;\n",
              "    }\n",
              "\n",
              "    .dataframe thead th {\n",
              "        text-align: right;\n",
              "    }\n",
              "</style>\n",
              "<table border=\"1\" class=\"dataframe\">\n",
              "  <thead>\n",
              "    <tr style=\"text-align: right;\">\n",
              "      <th></th>\n",
              "      <th>Sub-product</th>\n",
              "      <th>Consumer complaint narrative</th>\n",
              "    </tr>\n",
              "  </thead>\n",
              "  <tbody>\n",
              "    <tr>\n",
              "      <th>670</th>\n",
              "      <td>General-purpose credit card or charge card</td>\n",
              "      <td>CITI BANK in his response to XXXX asked me idi...</td>\n",
              "    </tr>\n",
              "    <tr>\n",
              "      <th>694</th>\n",
              "      <td>Other debt</td>\n",
              "      <td>THIS ACCOUNT IS A RESULT OF IDENTITY THEFT.</td>\n",
              "    </tr>\n",
              "    <tr>\n",
              "      <th>700</th>\n",
              "      <td>Other debt</td>\n",
              "      <td>Pro Collect has sent documents that dont match...</td>\n",
              "    </tr>\n",
              "    <tr>\n",
              "      <th>718</th>\n",
              "      <td>Medical debt</td>\n",
              "      <td>On XX/XX/2019 I sent PlusFour Inc a certified ...</td>\n",
              "    </tr>\n",
              "    <tr>\n",
              "      <th>756</th>\n",
              "      <td>Credit card debt</td>\n",
              "      <td>Client Services is reporting negative informat...</td>\n",
              "    </tr>\n",
              "  </tbody>\n",
              "</table>\n",
              "</div>"
            ],
            "text/plain": [
              "                                    Sub-product                       Consumer complaint narrative\n",
              "670  General-purpose credit card or charge card  CITI BANK in his response to XXXX asked me idi...\n",
              "694                                  Other debt        THIS ACCOUNT IS A RESULT OF IDENTITY THEFT.\n",
              "700                                  Other debt  Pro Collect has sent documents that dont match...\n",
              "718                                Medical debt  On XX/XX/2019 I sent PlusFour Inc a certified ...\n",
              "756                            Credit card debt  Client Services is reporting negative informat..."
            ]
          },
          "metadata": {
            "tags": []
          },
          "execution_count": 19
        }
      ]
    },
    {
      "cell_type": "code",
      "metadata": {
        "id": "MKr9K_JJDumy",
        "colab_type": "code",
        "colab": {}
      },
      "source": [
        "from google.colab import files\n",
        "\n",
        "# processed_df.to_csv('processed_df.csv', index=False)\n",
        "# files.download('processed_df.csv')\n",
        "# processed_df = pd.read_csv('gdrive/My Drive/IBM/processed_df.csv')"
      ],
      "execution_count": 20,
      "outputs": []
    },
    {
      "cell_type": "markdown",
      "metadata": {
        "id": "fdI-GBVDDum1",
        "colab_type": "text"
      },
      "source": [
        "### Tokenize and Stem"
      ]
    },
    {
      "cell_type": "code",
      "metadata": {
        "id": "1JukA2dzDum1",
        "colab_type": "code",
        "colab": {}
      },
      "source": [
        "### NEXT STEP: USE LEMMATIZER INSTEAD OF STEMMER TO IMPROVE THE RESULT\n",
        "\n",
        "stemmer = PorterStemmer()\n",
        "\n",
        "def tokenize_and_stem(text):\n",
        "    lowers = text.lower()\n",
        "    tokens = [word for sent in nltk.sent_tokenize(lowers) for word in nltk.word_tokenize(sent)]\n",
        "    filtered_tokens = []\n",
        "    # filter out any tokens not containing letters (e.g., numeric tokens, raw punctuation)\n",
        "    for token in tokens:\n",
        "        if re.search('[a-zA-Z]', token) and not token in stopwords.words('english'):\n",
        "            filtered_tokens.append(re.sub(r'[^\\w\\s]','',token))\n",
        "    stems = [stemmer.stem(t) for t in filtered_tokens]\n",
        "    return stems"
      ],
      "execution_count": 21,
      "outputs": []
    },
    {
      "cell_type": "code",
      "metadata": {
        "id": "JGF9hor-Dum4",
        "colab_type": "code",
        "colab": {}
      },
      "source": [
        "processed_df['tokenized narrative'] = [tokenize_and_stem(x) for x in processed_df['Consumer complaint narrative']]"
      ],
      "execution_count": 22,
      "outputs": []
    },
    {
      "cell_type": "code",
      "metadata": {
        "id": "OlqtT6llDum7",
        "colab_type": "code",
        "colab": {
          "base_uri": "https://localhost:8080/",
          "height": 349
        },
        "outputId": "1b927794-9436-47f4-b024-cf9e25f778cc"
      },
      "source": [
        "processed_df.head(10)"
      ],
      "execution_count": 23,
      "outputs": [
        {
          "output_type": "execute_result",
          "data": {
            "text/html": [
              "<div>\n",
              "<style scoped>\n",
              "    .dataframe tbody tr th:only-of-type {\n",
              "        vertical-align: middle;\n",
              "    }\n",
              "\n",
              "    .dataframe tbody tr th {\n",
              "        vertical-align: top;\n",
              "    }\n",
              "\n",
              "    .dataframe thead th {\n",
              "        text-align: right;\n",
              "    }\n",
              "</style>\n",
              "<table border=\"1\" class=\"dataframe\">\n",
              "  <thead>\n",
              "    <tr style=\"text-align: right;\">\n",
              "      <th></th>\n",
              "      <th>Sub-product</th>\n",
              "      <th>Consumer complaint narrative</th>\n",
              "      <th>tokenized narrative</th>\n",
              "    </tr>\n",
              "  </thead>\n",
              "  <tbody>\n",
              "    <tr>\n",
              "      <th>670</th>\n",
              "      <td>General-purpose credit card or charge card</td>\n",
              "      <td>CITI BANK in his response to XXXX asked me idi...</td>\n",
              "      <td>[citi, bank, respons, xxxx, ask, idiot, questi...</td>\n",
              "    </tr>\n",
              "    <tr>\n",
              "      <th>694</th>\n",
              "      <td>Other debt</td>\n",
              "      <td>THIS ACCOUNT IS A RESULT OF IDENTITY THEFT.</td>\n",
              "      <td>[account, result, ident, theft]</td>\n",
              "    </tr>\n",
              "    <tr>\n",
              "      <th>700</th>\n",
              "      <td>Other debt</td>\n",
              "      <td>Pro Collect has sent documents that dont match...</td>\n",
              "      <td>[pro, collect, sent, document, dont, match, mo...</td>\n",
              "    </tr>\n",
              "    <tr>\n",
              "      <th>718</th>\n",
              "      <td>Medical debt</td>\n",
              "      <td>On XX/XX/2019 I sent PlusFour Inc a certified ...</td>\n",
              "      <td>[xxxx2019, sent, plusfour, inc, certifi, lette...</td>\n",
              "    </tr>\n",
              "    <tr>\n",
              "      <th>756</th>\n",
              "      <td>Credit card debt</td>\n",
              "      <td>Client Services is reporting negative informat...</td>\n",
              "      <td>[client, servic, report, neg, inform, credit, ...</td>\n",
              "    </tr>\n",
              "    <tr>\n",
              "      <th>759</th>\n",
              "      <td>Credit reporting</td>\n",
              "      <td>What they have reported : i was late on a paym...</td>\n",
              "      <td>[report, late, payment, loan, paid, full, neve...</td>\n",
              "    </tr>\n",
              "    <tr>\n",
              "      <th>767</th>\n",
              "      <td>Other debt</td>\n",
              "      <td>I checked my credit report which shows delinqu...</td>\n",
              "      <td>[check, credit, report, show, delinqu, coi, co...</td>\n",
              "    </tr>\n",
              "    <tr>\n",
              "      <th>770</th>\n",
              "      <td>Medical debt</td>\n",
              "      <td>I started this journey XX/XX/XXXX of this year...</td>\n",
              "      <td>[start, journey, xxxxxxxx, year, check, credit...</td>\n",
              "    </tr>\n",
              "    <tr>\n",
              "      <th>810</th>\n",
              "      <td>Medical debt</td>\n",
              "      <td>In XX/XX/XXXX I was approved for 100 % financi...</td>\n",
              "      <td>[xxxxxxxx, approv, financi, aid, xxxx, xxxx, x...</td>\n",
              "    </tr>\n",
              "    <tr>\n",
              "      <th>829</th>\n",
              "      <td>Credit reporting</td>\n",
              "      <td>ARS ACCOUNT RESOLUTIONS are still reporting in...</td>\n",
              "      <td>[ar, account, resolut, still, report, inform, ...</td>\n",
              "    </tr>\n",
              "  </tbody>\n",
              "</table>\n",
              "</div>"
            ],
            "text/plain": [
              "                                    Sub-product  ...                                tokenized narrative\n",
              "670  General-purpose credit card or charge card  ...  [citi, bank, respons, xxxx, ask, idiot, questi...\n",
              "694                                  Other debt  ...                    [account, result, ident, theft]\n",
              "700                                  Other debt  ...  [pro, collect, sent, document, dont, match, mo...\n",
              "718                                Medical debt  ...  [xxxx2019, sent, plusfour, inc, certifi, lette...\n",
              "756                            Credit card debt  ...  [client, servic, report, neg, inform, credit, ...\n",
              "759                            Credit reporting  ...  [report, late, payment, loan, paid, full, neve...\n",
              "767                                  Other debt  ...  [check, credit, report, show, delinqu, coi, co...\n",
              "770                                Medical debt  ...  [start, journey, xxxxxxxx, year, check, credit...\n",
              "810                                Medical debt  ...  [xxxxxxxx, approv, financi, aid, xxxx, xxxx, x...\n",
              "829                            Credit reporting  ...  [ar, account, resolut, still, report, inform, ...\n",
              "\n",
              "[10 rows x 3 columns]"
            ]
          },
          "metadata": {
            "tags": []
          },
          "execution_count": 23
        }
      ]
    },
    {
      "cell_type": "code",
      "metadata": {
        "id": "-J1Zk3waDum-",
        "colab_type": "code",
        "colab": {}
      },
      "source": [
        "processed_df['stemmed narrative']  = processed_df['tokenized narrative'].apply(lambda x: re.sub('x{2,}', '', ' '.join(x)))"
      ],
      "execution_count": 25,
      "outputs": []
    },
    {
      "cell_type": "code",
      "metadata": {
        "id": "QVFRmeyRDunB",
        "colab_type": "code",
        "colab": {
          "base_uri": "https://localhost:8080/",
          "height": 198
        },
        "outputId": "2140d71a-b207-490b-e034-01a713fa55f2"
      },
      "source": [
        "processed_df.head()"
      ],
      "execution_count": 26,
      "outputs": [
        {
          "output_type": "execute_result",
          "data": {
            "text/html": [
              "<div>\n",
              "<style scoped>\n",
              "    .dataframe tbody tr th:only-of-type {\n",
              "        vertical-align: middle;\n",
              "    }\n",
              "\n",
              "    .dataframe tbody tr th {\n",
              "        vertical-align: top;\n",
              "    }\n",
              "\n",
              "    .dataframe thead th {\n",
              "        text-align: right;\n",
              "    }\n",
              "</style>\n",
              "<table border=\"1\" class=\"dataframe\">\n",
              "  <thead>\n",
              "    <tr style=\"text-align: right;\">\n",
              "      <th></th>\n",
              "      <th>Sub-product</th>\n",
              "      <th>Consumer complaint narrative</th>\n",
              "      <th>tokenized narrative</th>\n",
              "      <th>stemmed narrative</th>\n",
              "    </tr>\n",
              "  </thead>\n",
              "  <tbody>\n",
              "    <tr>\n",
              "      <th>670</th>\n",
              "      <td>General-purpose credit card or charge card</td>\n",
              "      <td>CITI BANK in his response to XXXX asked me idi...</td>\n",
              "      <td>[citi, bank, respons, xxxx, ask, idiot, questi...</td>\n",
              "      <td>citi bank respons  ask idiot question inapplic...</td>\n",
              "    </tr>\n",
              "    <tr>\n",
              "      <th>694</th>\n",
              "      <td>Other debt</td>\n",
              "      <td>THIS ACCOUNT IS A RESULT OF IDENTITY THEFT.</td>\n",
              "      <td>[account, result, ident, theft]</td>\n",
              "      <td>account result ident theft</td>\n",
              "    </tr>\n",
              "    <tr>\n",
              "      <th>700</th>\n",
              "      <td>Other debt</td>\n",
              "      <td>Pro Collect has sent documents that dont match...</td>\n",
              "      <td>[pro, collect, sent, document, dont, match, mo...</td>\n",
              "      <td>pro collect sent document dont match move date...</td>\n",
              "    </tr>\n",
              "    <tr>\n",
              "      <th>718</th>\n",
              "      <td>Medical debt</td>\n",
              "      <td>On XX/XX/2019 I sent PlusFour Inc a certified ...</td>\n",
              "      <td>[xxxx2019, sent, plusfour, inc, certifi, lette...</td>\n",
              "      <td>2019 sent plusfour inc certifi letter via usp ...</td>\n",
              "    </tr>\n",
              "    <tr>\n",
              "      <th>756</th>\n",
              "      <td>Credit card debt</td>\n",
              "      <td>Client Services is reporting negative informat...</td>\n",
              "      <td>[client, servic, report, neg, inform, credit, ...</td>\n",
              "      <td>client servic report neg inform credit report ...</td>\n",
              "    </tr>\n",
              "  </tbody>\n",
              "</table>\n",
              "</div>"
            ],
            "text/plain": [
              "                                    Sub-product  ...                                  stemmed narrative\n",
              "670  General-purpose credit card or charge card  ...  citi bank respons  ask idiot question inapplic...\n",
              "694                                  Other debt  ...                         account result ident theft\n",
              "700                                  Other debt  ...  pro collect sent document dont match move date...\n",
              "718                                Medical debt  ...  2019 sent plusfour inc certifi letter via usp ...\n",
              "756                            Credit card debt  ...  client servic report neg inform credit report ...\n",
              "\n",
              "[5 rows x 4 columns]"
            ]
          },
          "metadata": {
            "tags": []
          },
          "execution_count": 26
        }
      ]
    },
    {
      "cell_type": "code",
      "metadata": {
        "id": "ybtELVt4DunF",
        "colab_type": "code",
        "colab": {
          "base_uri": "https://localhost:8080/",
          "height": 198
        },
        "outputId": "787bd8b6-5371-433f-f4ae-a345aa9ea741"
      },
      "source": [
        "processed_df.drop('tokenized narrative', axis=1, inplace=True)\n",
        "processed_df.head()"
      ],
      "execution_count": 27,
      "outputs": [
        {
          "output_type": "execute_result",
          "data": {
            "text/html": [
              "<div>\n",
              "<style scoped>\n",
              "    .dataframe tbody tr th:only-of-type {\n",
              "        vertical-align: middle;\n",
              "    }\n",
              "\n",
              "    .dataframe tbody tr th {\n",
              "        vertical-align: top;\n",
              "    }\n",
              "\n",
              "    .dataframe thead th {\n",
              "        text-align: right;\n",
              "    }\n",
              "</style>\n",
              "<table border=\"1\" class=\"dataframe\">\n",
              "  <thead>\n",
              "    <tr style=\"text-align: right;\">\n",
              "      <th></th>\n",
              "      <th>Sub-product</th>\n",
              "      <th>Consumer complaint narrative</th>\n",
              "      <th>stemmed narrative</th>\n",
              "    </tr>\n",
              "  </thead>\n",
              "  <tbody>\n",
              "    <tr>\n",
              "      <th>670</th>\n",
              "      <td>General-purpose credit card or charge card</td>\n",
              "      <td>CITI BANK in his response to XXXX asked me idi...</td>\n",
              "      <td>citi bank respons  ask idiot question inapplic...</td>\n",
              "    </tr>\n",
              "    <tr>\n",
              "      <th>694</th>\n",
              "      <td>Other debt</td>\n",
              "      <td>THIS ACCOUNT IS A RESULT OF IDENTITY THEFT.</td>\n",
              "      <td>account result ident theft</td>\n",
              "    </tr>\n",
              "    <tr>\n",
              "      <th>700</th>\n",
              "      <td>Other debt</td>\n",
              "      <td>Pro Collect has sent documents that dont match...</td>\n",
              "      <td>pro collect sent document dont match move date...</td>\n",
              "    </tr>\n",
              "    <tr>\n",
              "      <th>718</th>\n",
              "      <td>Medical debt</td>\n",
              "      <td>On XX/XX/2019 I sent PlusFour Inc a certified ...</td>\n",
              "      <td>2019 sent plusfour inc certifi letter via usp ...</td>\n",
              "    </tr>\n",
              "    <tr>\n",
              "      <th>756</th>\n",
              "      <td>Credit card debt</td>\n",
              "      <td>Client Services is reporting negative informat...</td>\n",
              "      <td>client servic report neg inform credit report ...</td>\n",
              "    </tr>\n",
              "  </tbody>\n",
              "</table>\n",
              "</div>"
            ],
            "text/plain": [
              "                                    Sub-product  ...                                  stemmed narrative\n",
              "670  General-purpose credit card or charge card  ...  citi bank respons  ask idiot question inapplic...\n",
              "694                                  Other debt  ...                         account result ident theft\n",
              "700                                  Other debt  ...  pro collect sent document dont match move date...\n",
              "718                                Medical debt  ...  2019 sent plusfour inc certifi letter via usp ...\n",
              "756                            Credit card debt  ...  client servic report neg inform credit report ...\n",
              "\n",
              "[5 rows x 3 columns]"
            ]
          },
          "metadata": {
            "tags": []
          },
          "execution_count": 27
        }
      ]
    },
    {
      "cell_type": "code",
      "metadata": {
        "id": "Q5_hkX4NDunJ",
        "colab_type": "code",
        "colab": {
          "base_uri": "https://localhost:8080/",
          "height": 34
        },
        "outputId": "cc315ec1-0ea7-46f0-f39b-a6af6c873ecc"
      },
      "source": [
        "from google.colab import files\n",
        "\n",
        "processed_df.to_csv('stemmed.csv', index = False)\n",
        "files.download('stemmed.csv')"
      ],
      "execution_count": 28,
      "outputs": [
        {
          "output_type": "display_data",
          "data": {
            "application/javascript": [
              "\n",
              "    async function download(id, filename, size) {\n",
              "      if (!google.colab.kernel.accessAllowed) {\n",
              "        return;\n",
              "      }\n",
              "      const div = document.createElement('div');\n",
              "      const label = document.createElement('label');\n",
              "      label.textContent = `Downloading \"${filename}\": `;\n",
              "      div.appendChild(label);\n",
              "      const progress = document.createElement('progress');\n",
              "      progress.max = size;\n",
              "      div.appendChild(progress);\n",
              "      document.body.appendChild(div);\n",
              "\n",
              "      const buffers = [];\n",
              "      let downloaded = 0;\n",
              "\n",
              "      const channel = await google.colab.kernel.comms.open(id);\n",
              "      // Send a message to notify the kernel that we're ready.\n",
              "      channel.send({})\n",
              "\n",
              "      for await (const message of channel.messages) {\n",
              "        // Send a message to notify the kernel that we're ready.\n",
              "        channel.send({})\n",
              "        if (message.buffers) {\n",
              "          for (const buffer of message.buffers) {\n",
              "            buffers.push(buffer);\n",
              "            downloaded += buffer.byteLength;\n",
              "            progress.value = downloaded;\n",
              "          }\n",
              "        }\n",
              "      }\n",
              "      const blob = new Blob(buffers, {type: 'application/binary'});\n",
              "      const a = document.createElement('a');\n",
              "      a.href = window.URL.createObjectURL(blob);\n",
              "      a.download = filename;\n",
              "      div.appendChild(a);\n",
              "      a.click();\n",
              "      div.remove();\n",
              "    }\n",
              "  "
            ],
            "text/plain": [
              "<IPython.core.display.Javascript object>"
            ]
          },
          "metadata": {
            "tags": []
          }
        },
        {
          "output_type": "display_data",
          "data": {
            "application/javascript": [
              "download(\"download_213f8a1c-765d-44fe-8893-f96be6dced54\", \"stemmed.csv\", 564162275)"
            ],
            "text/plain": [
              "<IPython.core.display.Javascript object>"
            ]
          },
          "metadata": {
            "tags": []
          }
        }
      ]
    },
    {
      "cell_type": "code",
      "metadata": {
        "id": "7acQWXyVGE1K",
        "colab_type": "code",
        "colab": {}
      },
      "source": [
        ""
      ],
      "execution_count": null,
      "outputs": []
    }
  ]
}