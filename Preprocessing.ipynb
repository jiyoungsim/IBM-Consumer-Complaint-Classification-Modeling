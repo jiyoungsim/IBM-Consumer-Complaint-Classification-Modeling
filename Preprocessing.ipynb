{
 "cells": [
  {
   "cell_type": "code",
   "execution_count": 1,
   "metadata": {},
   "outputs": [],
   "source": [
    "import numpy as np\n",
    "import pandas as pd\n",
    "import datetime as dt"
   ]
  },
  {
   "cell_type": "code",
   "execution_count": 3,
   "metadata": {},
   "outputs": [
    {
     "name": "stderr",
     "output_type": "stream",
     "text": [
      "[nltk_data] Downloading package punkt to C:\\Users\\Jiyoung\n",
      "[nltk_data]     Sim\\AppData\\Roaming\\nltk_data...\n",
      "[nltk_data]   Package punkt is already up-to-date!\n",
      "[nltk_data] Downloading package stopwords to C:\\Users\\Jiyoung\n",
      "[nltk_data]     Sim\\AppData\\Roaming\\nltk_data...\n",
      "[nltk_data]   Unzipping corpora\\stopwords.zip.\n"
     ]
    },
    {
     "data": {
      "text/plain": [
       "True"
      ]
     },
     "execution_count": 3,
     "metadata": {},
     "output_type": "execute_result"
    }
   ],
   "source": [
    "# Text\n",
    "import nltk, re, string\n",
    "from nltk import word_tokenize, sent_tokenize\n",
    "from nltk.corpus import stopwords\n",
    "from nltk.stem.porter import PorterStemmer\n",
    "from sklearn.feature_extraction.text import TfidfVectorizer, CountVectorizer\n",
    "\n",
    "nltk.download('punkt')\n",
    "nltk.download('stopwords')"
   ]
  },
  {
   "cell_type": "code",
   "execution_count": 4,
   "metadata": {},
   "outputs": [],
   "source": [
    "df = pd.read_csv('Consumer_Complaints.csv', parse_dates = ['Date received', 'Date sent to company'])"
   ]
  },
  {
   "cell_type": "code",
   "execution_count": 37,
   "metadata": {},
   "outputs": [],
   "source": [
    "df['Date received'] = df['Date received'].dt.date"
   ]
  },
  {
   "cell_type": "code",
   "execution_count": 76,
   "metadata": {},
   "outputs": [],
   "source": [
    "df.loc[df['Sub-product'] == 'I do not know', 'Sub-product'] = 'Other debt'"
   ]
  },
  {
   "cell_type": "code",
   "execution_count": 119,
   "metadata": {},
   "outputs": [],
   "source": [
    "df.loc[df['Product']=='Credit reporting', 'Sub-product'] = 'Credit reporting'\n",
    "df.loc[df['Product']=='Credit card', 'Sub-product'] = 'Credit card'\n",
    "df.loc[df['Product']=='Payday loan', 'Sub-product'] = 'Payday loan'"
   ]
  },
  {
   "cell_type": "code",
   "execution_count": 120,
   "metadata": {},
   "outputs": [
    {
     "data": {
      "text/plain": [
       "47"
      ]
     },
     "execution_count": 120,
     "metadata": {},
     "output_type": "execute_result"
    }
   ],
   "source": [
    "subproducts = df[df['Date received'] > dt.date(2018, 11, 1)]['Sub-product'].unique()\n",
    "len(subproducts)"
   ]
  },
  {
   "cell_type": "code",
   "execution_count": 7,
   "metadata": {},
   "outputs": [
    {
     "data": {
      "text/html": [
       "<div>\n",
       "<style scoped>\n",
       "    .dataframe tbody tr th:only-of-type {\n",
       "        vertical-align: middle;\n",
       "    }\n",
       "\n",
       "    .dataframe tbody tr th {\n",
       "        vertical-align: top;\n",
       "    }\n",
       "\n",
       "    .dataframe thead th {\n",
       "        text-align: right;\n",
       "    }\n",
       "</style>\n",
       "<table border=\"1\" class=\"dataframe\">\n",
       "  <thead>\n",
       "    <tr style=\"text-align: right;\">\n",
       "      <th></th>\n",
       "      <th>Sub-product</th>\n",
       "      <th>Consumer complaint narrative</th>\n",
       "    </tr>\n",
       "  </thead>\n",
       "  <tbody>\n",
       "    <tr>\n",
       "      <th>0</th>\n",
       "      <td>General-purpose credit card or charge card</td>\n",
       "      <td>CITI BANK in his response to XXXX asked me idi...</td>\n",
       "    </tr>\n",
       "    <tr>\n",
       "      <th>1</th>\n",
       "      <td>Other debt</td>\n",
       "      <td>THIS ACCOUNT IS A RESULT OF IDENTITY THEFT.</td>\n",
       "    </tr>\n",
       "    <tr>\n",
       "      <th>2</th>\n",
       "      <td>Other debt</td>\n",
       "      <td>Pro Collect has sent documents that dont match...</td>\n",
       "    </tr>\n",
       "    <tr>\n",
       "      <th>3</th>\n",
       "      <td>Medical debt</td>\n",
       "      <td>On XX/XX/2019 I sent PlusFour Inc a certified ...</td>\n",
       "    </tr>\n",
       "    <tr>\n",
       "      <th>4</th>\n",
       "      <td>Credit card debt</td>\n",
       "      <td>Client Services is reporting negative informat...</td>\n",
       "    </tr>\n",
       "  </tbody>\n",
       "</table>\n",
       "</div>"
      ],
      "text/plain": [
       "                                  Sub-product  \\\n",
       "0  General-purpose credit card or charge card   \n",
       "1                                  Other debt   \n",
       "2                                  Other debt   \n",
       "3                                Medical debt   \n",
       "4                            Credit card debt   \n",
       "\n",
       "                        Consumer complaint narrative  \n",
       "0  CITI BANK in his response to XXXX asked me idi...  \n",
       "1        THIS ACCOUNT IS A RESULT OF IDENTITY THEFT.  \n",
       "2  Pro Collect has sent documents that dont match...  \n",
       "3  On XX/XX/2019 I sent PlusFour Inc a certified ...  \n",
       "4  Client Services is reporting negative informat...  "
      ]
     },
     "execution_count": 7,
     "metadata": {},
     "output_type": "execute_result"
    }
   ],
   "source": [
    "df2 = df[[x in subproducts for x in df['Sub-product']]]\n",
    "df2 = df2[['Sub-product', 'Consumer complaint narrative']]\n",
    "df2.head()"
   ]
  },
  {
   "cell_type": "code",
   "execution_count": 8,
   "metadata": {},
   "outputs": [],
   "source": [
    "df2.dropna(0, inplace = True)"
   ]
  },
  {
   "cell_type": "code",
   "execution_count": 9,
   "metadata": {},
   "outputs": [
    {
     "data": {
      "text/html": [
       "<div>\n",
       "<style scoped>\n",
       "    .dataframe tbody tr th:only-of-type {\n",
       "        vertical-align: middle;\n",
       "    }\n",
       "\n",
       "    .dataframe tbody tr th {\n",
       "        vertical-align: top;\n",
       "    }\n",
       "\n",
       "    .dataframe thead th {\n",
       "        text-align: right;\n",
       "    }\n",
       "</style>\n",
       "<table border=\"1\" class=\"dataframe\">\n",
       "  <thead>\n",
       "    <tr style=\"text-align: right;\">\n",
       "      <th></th>\n",
       "      <th>Sub-product</th>\n",
       "      <th>Consumer complaint narrative</th>\n",
       "      <th>labels</th>\n",
       "    </tr>\n",
       "  </thead>\n",
       "  <tbody>\n",
       "    <tr>\n",
       "      <th>0</th>\n",
       "      <td>General-purpose credit card or charge card</td>\n",
       "      <td>CITI BANK in his response to XXXX asked me idi...</td>\n",
       "      <td>14</td>\n",
       "    </tr>\n",
       "    <tr>\n",
       "      <th>1</th>\n",
       "      <td>Other debt</td>\n",
       "      <td>THIS ACCOUNT IS A RESULT OF IDENTITY THEFT.</td>\n",
       "      <td>28</td>\n",
       "    </tr>\n",
       "    <tr>\n",
       "      <th>2</th>\n",
       "      <td>Other debt</td>\n",
       "      <td>Pro Collect has sent documents that dont match...</td>\n",
       "      <td>28</td>\n",
       "    </tr>\n",
       "    <tr>\n",
       "      <th>3</th>\n",
       "      <td>Medical debt</td>\n",
       "      <td>On XX/XX/2019 I sent PlusFour Inc a certified ...</td>\n",
       "      <td>23</td>\n",
       "    </tr>\n",
       "    <tr>\n",
       "      <th>4</th>\n",
       "      <td>Credit card debt</td>\n",
       "      <td>Client Services is reporting negative informat...</td>\n",
       "      <td>5</td>\n",
       "    </tr>\n",
       "  </tbody>\n",
       "</table>\n",
       "</div>"
      ],
      "text/plain": [
       "                                  Sub-product  \\\n",
       "0  General-purpose credit card or charge card   \n",
       "1                                  Other debt   \n",
       "2                                  Other debt   \n",
       "3                                Medical debt   \n",
       "4                            Credit card debt   \n",
       "\n",
       "                        Consumer complaint narrative  labels  \n",
       "0  CITI BANK in his response to XXXX asked me idi...      14  \n",
       "1        THIS ACCOUNT IS A RESULT OF IDENTITY THEFT.      28  \n",
       "2  Pro Collect has sent documents that dont match...      28  \n",
       "3  On XX/XX/2019 I sent PlusFour Inc a certified ...      23  \n",
       "4  Client Services is reporting negative informat...       5  "
      ]
     },
     "execution_count": 9,
     "metadata": {},
     "output_type": "execute_result"
    }
   ],
   "source": [
    "from sklearn.preprocessing import LabelEncoder\n",
    "\n",
    "le = LabelEncoder()\n",
    "le.fit(df2['Sub-product'])\n",
    "df2['labels'] = le.transform(df2['Sub-product'])\n",
    "df2.head()"
   ]
  },
  {
   "cell_type": "code",
   "execution_count": 10,
   "metadata": {},
   "outputs": [],
   "source": [
    "### NEXT STEP: USE LEMMATIZER INSTEAD OF STEMMER TO IMPROVE THE RESULT\n",
    "\n",
    "stemmer = PorterStemmer()\n",
    "\n",
    "def tokenize_and_stem(text):\n",
    "    lowers = text.lower()\n",
    "    tokens = [word for sent in nltk.sent_tokenize(lowers) for word in nltk.word_tokenize(sent)]\n",
    "    filtered_tokens = []\n",
    "    # filter out any tokens not containing letters (e.g., numeric tokens, raw punctuation)\n",
    "    for token in tokens:\n",
    "        if re.search('[a-zA-Z]', token) and not token in stopwords.words('english'):\n",
    "            filtered_tokens.append(re.sub(r'[^\\w\\s]','',token))\n",
    "    stems = [stemmer.stem(t) for t in filtered_tokens]\n",
    "    return stems"
   ]
  },
  {
   "cell_type": "code",
   "execution_count": 12,
   "metadata": {},
   "outputs": [],
   "source": [
    "df2['tokenized narrative'] = [tokenize_and_stem(x) for x in df2['Consumer complaint narrative']]"
   ]
  },
  {
   "cell_type": "code",
   "execution_count": 13,
   "metadata": {},
   "outputs": [
    {
     "data": {
      "text/html": [
       "<div>\n",
       "<style scoped>\n",
       "    .dataframe tbody tr th:only-of-type {\n",
       "        vertical-align: middle;\n",
       "    }\n",
       "\n",
       "    .dataframe tbody tr th {\n",
       "        vertical-align: top;\n",
       "    }\n",
       "\n",
       "    .dataframe thead th {\n",
       "        text-align: right;\n",
       "    }\n",
       "</style>\n",
       "<table border=\"1\" class=\"dataframe\">\n",
       "  <thead>\n",
       "    <tr style=\"text-align: right;\">\n",
       "      <th></th>\n",
       "      <th>Sub-product</th>\n",
       "      <th>Consumer complaint narrative</th>\n",
       "      <th>labels</th>\n",
       "      <th>tokenized narrative</th>\n",
       "    </tr>\n",
       "  </thead>\n",
       "  <tbody>\n",
       "    <tr>\n",
       "      <th>0</th>\n",
       "      <td>General-purpose credit card or charge card</td>\n",
       "      <td>CITI BANK in his response to XXXX asked me idi...</td>\n",
       "      <td>14</td>\n",
       "      <td>[citi, bank, respons, xxxx, ask, idiot, questi...</td>\n",
       "    </tr>\n",
       "    <tr>\n",
       "      <th>1</th>\n",
       "      <td>Other debt</td>\n",
       "      <td>THIS ACCOUNT IS A RESULT OF IDENTITY THEFT.</td>\n",
       "      <td>28</td>\n",
       "      <td>[account, result, ident, theft]</td>\n",
       "    </tr>\n",
       "    <tr>\n",
       "      <th>2</th>\n",
       "      <td>Other debt</td>\n",
       "      <td>Pro Collect has sent documents that dont match...</td>\n",
       "      <td>28</td>\n",
       "      <td>[pro, collect, sent, document, dont, match, mo...</td>\n",
       "    </tr>\n",
       "    <tr>\n",
       "      <th>3</th>\n",
       "      <td>Medical debt</td>\n",
       "      <td>On XX/XX/2019 I sent PlusFour Inc a certified ...</td>\n",
       "      <td>23</td>\n",
       "      <td>[xxxx2019, sent, plusfour, inc, certifi, lette...</td>\n",
       "    </tr>\n",
       "    <tr>\n",
       "      <th>4</th>\n",
       "      <td>Credit card debt</td>\n",
       "      <td>Client Services is reporting negative informat...</td>\n",
       "      <td>5</td>\n",
       "      <td>[client, servic, report, neg, inform, credit, ...</td>\n",
       "    </tr>\n",
       "  </tbody>\n",
       "</table>\n",
       "</div>"
      ],
      "text/plain": [
       "                                  Sub-product  \\\n",
       "0  General-purpose credit card or charge card   \n",
       "1                                  Other debt   \n",
       "2                                  Other debt   \n",
       "3                                Medical debt   \n",
       "4                            Credit card debt   \n",
       "\n",
       "                        Consumer complaint narrative  labels  \\\n",
       "0  CITI BANK in his response to XXXX asked me idi...      14   \n",
       "1        THIS ACCOUNT IS A RESULT OF IDENTITY THEFT.      28   \n",
       "2  Pro Collect has sent documents that dont match...      28   \n",
       "3  On XX/XX/2019 I sent PlusFour Inc a certified ...      23   \n",
       "4  Client Services is reporting negative informat...       5   \n",
       "\n",
       "                                 tokenized narrative  \n",
       "0  [citi, bank, respons, xxxx, ask, idiot, questi...  \n",
       "1                    [account, result, ident, theft]  \n",
       "2  [pro, collect, sent, document, dont, match, mo...  \n",
       "3  [xxxx2019, sent, plusfour, inc, certifi, lette...  \n",
       "4  [client, servic, report, neg, inform, credit, ...  "
      ]
     },
     "execution_count": 13,
     "metadata": {},
     "output_type": "execute_result"
    }
   ],
   "source": [
    "df2.head()"
   ]
  },
  {
   "cell_type": "code",
   "execution_count": 109,
   "metadata": {},
   "outputs": [],
   "source": [
    "import re\n",
    "\n",
    "df2['stemmed narrative']  = df2['tokenized narrative'].apply(lambda x: re.sub('[xx]+', '',x))\n",
    "df2['stemmed narrative'] = df2['stemmed narrative'].apply(lambda x: re.split('[\\'\\s\\[\\],]', x))\n",
    "df2['stemmed narrative'] = df2['stemmed narrative'].apply(lambda x: ' '.join(filter(None, x)))"
   ]
  },
  {
   "cell_type": "code",
   "execution_count": 142,
   "metadata": {},
   "outputs": [
    {
     "data": {
      "text/html": [
       "<div>\n",
       "<style scoped>\n",
       "    .dataframe tbody tr th:only-of-type {\n",
       "        vertical-align: middle;\n",
       "    }\n",
       "\n",
       "    .dataframe tbody tr th {\n",
       "        vertical-align: top;\n",
       "    }\n",
       "\n",
       "    .dataframe thead th {\n",
       "        text-align: right;\n",
       "    }\n",
       "</style>\n",
       "<table border=\"1\" class=\"dataframe\">\n",
       "  <thead>\n",
       "    <tr style=\"text-align: right;\">\n",
       "      <th></th>\n",
       "      <th>Sub-product</th>\n",
       "      <th>Consumer complaint narrative</th>\n",
       "      <th>labels</th>\n",
       "      <th>tokenized narrative</th>\n",
       "      <th>stemmed narrative</th>\n",
       "    </tr>\n",
       "  </thead>\n",
       "  <tbody>\n",
       "    <tr>\n",
       "      <th>0</th>\n",
       "      <td>General-purpose credit card or charge card</td>\n",
       "      <td>CITI BANK in his response to XXXX asked me idi...</td>\n",
       "      <td>14</td>\n",
       "      <td>['citi', 'bank', 'respons', 'xxxx', 'ask', 'id...</td>\n",
       "      <td>citi bank respons ask idiot question inapplic ...</td>\n",
       "    </tr>\n",
       "    <tr>\n",
       "      <th>1</th>\n",
       "      <td>Other debt</td>\n",
       "      <td>THIS ACCOUNT IS A RESULT OF IDENTITY THEFT.</td>\n",
       "      <td>28</td>\n",
       "      <td>['account', 'result', 'ident', 'theft']</td>\n",
       "      <td>account result ident theft</td>\n",
       "    </tr>\n",
       "    <tr>\n",
       "      <th>2</th>\n",
       "      <td>Other debt</td>\n",
       "      <td>Pro Collect has sent documents that dont match...</td>\n",
       "      <td>28</td>\n",
       "      <td>['pro', 'collect', 'sent', 'document', 'dont',...</td>\n",
       "      <td>pro collect sent document dont match move date...</td>\n",
       "    </tr>\n",
       "    <tr>\n",
       "      <th>3</th>\n",
       "      <td>Medical debt</td>\n",
       "      <td>On XX/XX/2019 I sent PlusFour Inc a certified ...</td>\n",
       "      <td>23</td>\n",
       "      <td>['xxxx2019', 'sent', 'plusfour', 'inc', 'certi...</td>\n",
       "      <td>2019 sent plusfour inc certifi letter via usp ...</td>\n",
       "    </tr>\n",
       "    <tr>\n",
       "      <th>4</th>\n",
       "      <td>Credit card debt</td>\n",
       "      <td>Client Services is reporting negative informat...</td>\n",
       "      <td>5</td>\n",
       "      <td>['client', 'servic', 'report', 'neg', 'inform'...</td>\n",
       "      <td>client servic report neg inform credit report ...</td>\n",
       "    </tr>\n",
       "  </tbody>\n",
       "</table>\n",
       "</div>"
      ],
      "text/plain": [
       "                                  Sub-product  \\\n",
       "0  General-purpose credit card or charge card   \n",
       "1                                  Other debt   \n",
       "2                                  Other debt   \n",
       "3                                Medical debt   \n",
       "4                            Credit card debt   \n",
       "\n",
       "                        Consumer complaint narrative  labels  \\\n",
       "0  CITI BANK in his response to XXXX asked me idi...      14   \n",
       "1        THIS ACCOUNT IS A RESULT OF IDENTITY THEFT.      28   \n",
       "2  Pro Collect has sent documents that dont match...      28   \n",
       "3  On XX/XX/2019 I sent PlusFour Inc a certified ...      23   \n",
       "4  Client Services is reporting negative informat...       5   \n",
       "\n",
       "                                 tokenized narrative  \\\n",
       "0  ['citi', 'bank', 'respons', 'xxxx', 'ask', 'id...   \n",
       "1            ['account', 'result', 'ident', 'theft']   \n",
       "2  ['pro', 'collect', 'sent', 'document', 'dont',...   \n",
       "3  ['xxxx2019', 'sent', 'plusfour', 'inc', 'certi...   \n",
       "4  ['client', 'servic', 'report', 'neg', 'inform'...   \n",
       "\n",
       "                                   stemmed narrative  \n",
       "0  citi bank respons ask idiot question inapplic ...  \n",
       "1                         account result ident theft  \n",
       "2  pro collect sent document dont match move date...  \n",
       "3  2019 sent plusfour inc certifi letter via usp ...  \n",
       "4  client servic report neg inform credit report ...  "
      ]
     },
     "execution_count": 142,
     "metadata": {},
     "output_type": "execute_result"
    }
   ],
   "source": [
    "df2.head()"
   ]
  },
  {
   "cell_type": "code",
   "execution_count": 5,
   "metadata": {},
   "outputs": [],
   "source": [
    "df2['stemmed narrative']=df2['tokenized narrative'].apply(lambda x: ' '.join(x))"
   ]
  },
  {
   "cell_type": "code",
   "execution_count": 117,
   "metadata": {},
   "outputs": [],
   "source": [
    "df.to_csv('df2.csv', index = False)"
   ]
  }
 ],
 "metadata": {
  "kernelspec": {
   "display_name": "Python 3",
   "language": "python",
   "name": "python3"
  },
  "language_info": {
   "codemirror_mode": {
    "name": "ipython",
    "version": 3
   },
   "file_extension": ".py",
   "mimetype": "text/x-python",
   "name": "python",
   "nbconvert_exporter": "python",
   "pygments_lexer": "ipython3",
   "version": "3.7.3"
  }
 },
 "nbformat": 4,
 "nbformat_minor": 2
}
