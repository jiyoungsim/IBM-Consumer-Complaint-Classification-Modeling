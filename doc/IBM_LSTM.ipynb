{
 "cells": [
  {
   "cell_type": "markdown",
   "metadata": {
    "colab_type": "text",
    "id": "26wOdDXko0UL"
   },
   "source": [
    "# IBM Consumer Complaint Classification Modeling\n",
    "### Import Modules"
   ]
  },
  {
   "cell_type": "code",
   "execution_count": 3,
   "metadata": {
    "colab": {},
    "colab_type": "code",
    "id": "PEVeXQ_uFQdJ"
   },
   "outputs": [],
   "source": [
    "import pandas as pd\n",
    "import numpy as np"
   ]
  },
  {
   "cell_type": "markdown",
   "metadata": {
    "colab_type": "text",
    "id": "4biqcjMio7l4"
   },
   "source": [
    "### Load Stemmed Narratives"
   ]
  },
  {
   "cell_type": "code",
   "execution_count": 5,
   "metadata": {
    "colab": {
     "base_uri": "https://localhost:8080/",
     "height": 122
    },
    "colab_type": "code",
    "id": "uPS0FH5mFcCY",
    "outputId": "c761bed7-c8fa-4b49-ec7d-936227c3ee64"
   },
   "outputs": [
    {
     "name": "stdout",
     "output_type": "stream",
     "text": [
      "Go to this URL in a browser: https://accounts.google.com/o/oauth2/auth?client_id=947318989803-6bn6qk8qdgf4n4g3pfee6491hc0brc4i.apps.googleusercontent.com&redirect_uri=urn%3aietf%3awg%3aoauth%3a2.0%3aoob&response_type=code&scope=email%20https%3a%2f%2fwww.googleapis.com%2fauth%2fdocs.test%20https%3a%2f%2fwww.googleapis.com%2fauth%2fdrive%20https%3a%2f%2fwww.googleapis.com%2fauth%2fdrive.photos.readonly%20https%3a%2f%2fwww.googleapis.com%2fauth%2fpeopleapi.readonly\n",
      "\n",
      "Enter your authorization code:\n",
      "··········\n",
      "Mounted at /content/gdrive\n"
     ]
    }
   ],
   "source": [
    "from google.colab import drive\n",
    "drive.mount('/content/gdrive', force_remount = True)\n",
    "df=pd.read_csv('gdrive/My Drive/IBM/stemmed.csv')"
   ]
  },
  {
   "cell_type": "code",
   "execution_count": 6,
   "metadata": {
    "colab": {
     "base_uri": "https://localhost:8080/",
     "height": 198
    },
    "colab_type": "code",
    "id": "xSIa0e1JFyZK",
    "outputId": "eaf49803-8f69-4e9a-a8ee-87a6404c2a28"
   },
   "outputs": [
    {
     "data": {
      "text/html": [
       "<div>\n",
       "<style scoped>\n",
       "    .dataframe tbody tr th:only-of-type {\n",
       "        vertical-align: middle;\n",
       "    }\n",
       "\n",
       "    .dataframe tbody tr th {\n",
       "        vertical-align: top;\n",
       "    }\n",
       "\n",
       "    .dataframe thead th {\n",
       "        text-align: right;\n",
       "    }\n",
       "</style>\n",
       "<table border=\"1\" class=\"dataframe\">\n",
       "  <thead>\n",
       "    <tr style=\"text-align: right;\">\n",
       "      <th></th>\n",
       "      <th>Sub-product</th>\n",
       "      <th>Consumer complaint narrative</th>\n",
       "      <th>stemmed narrative</th>\n",
       "    </tr>\n",
       "  </thead>\n",
       "  <tbody>\n",
       "    <tr>\n",
       "      <th>0</th>\n",
       "      <td>General-purpose credit card or charge card</td>\n",
       "      <td>CITI BANK in his response to XXXX asked me idi...</td>\n",
       "      <td>citi bank respons  ask idiot question inapplic...</td>\n",
       "    </tr>\n",
       "    <tr>\n",
       "      <th>1</th>\n",
       "      <td>Other debt</td>\n",
       "      <td>THIS ACCOUNT IS A RESULT OF IDENTITY THEFT.</td>\n",
       "      <td>account result ident theft</td>\n",
       "    </tr>\n",
       "    <tr>\n",
       "      <th>2</th>\n",
       "      <td>Other debt</td>\n",
       "      <td>Pro Collect has sent documents that dont match...</td>\n",
       "      <td>pro collect sent document dont match move date...</td>\n",
       "    </tr>\n",
       "    <tr>\n",
       "      <th>3</th>\n",
       "      <td>Medical debt</td>\n",
       "      <td>On XX/XX/2019 I sent PlusFour Inc a certified ...</td>\n",
       "      <td>2019 sent plusfour inc certifi letter via usp ...</td>\n",
       "    </tr>\n",
       "    <tr>\n",
       "      <th>4</th>\n",
       "      <td>Credit card debt</td>\n",
       "      <td>Client Services is reporting negative informat...</td>\n",
       "      <td>client servic report neg inform credit report ...</td>\n",
       "    </tr>\n",
       "  </tbody>\n",
       "</table>\n",
       "</div>"
      ],
      "text/plain": [
       "                                  Sub-product  ...                                  stemmed narrative\n",
       "0  General-purpose credit card or charge card  ...  citi bank respons  ask idiot question inapplic...\n",
       "1                                  Other debt  ...                         account result ident theft\n",
       "2                                  Other debt  ...  pro collect sent document dont match move date...\n",
       "3                                Medical debt  ...  2019 sent plusfour inc certifi letter via usp ...\n",
       "4                            Credit card debt  ...  client servic report neg inform credit report ...\n",
       "\n",
       "[5 rows x 3 columns]"
      ]
     },
     "execution_count": 6,
     "metadata": {
      "tags": []
     },
     "output_type": "execute_result"
    }
   ],
   "source": [
    "df.head()"
   ]
  },
  {
   "cell_type": "code",
   "execution_count": 7,
   "metadata": {
    "colab": {},
    "colab_type": "code",
    "id": "sOBrBVWCHzVb"
   },
   "outputs": [],
   "source": [
    "df['stemmed narrative'] = df['stemmed narrative'].astype(str)"
   ]
  },
  {
   "cell_type": "markdown",
   "metadata": {
    "colab_type": "text",
    "id": "NE48n10-pBky"
   },
   "source": [
    "### Label Categories"
   ]
  },
  {
   "cell_type": "code",
   "execution_count": 8,
   "metadata": {
    "colab": {
     "base_uri": "https://localhost:8080/",
     "height": 198
    },
    "colab_type": "code",
    "id": "qf1R2j4EFLsn",
    "outputId": "05f65034-984f-4255-84b2-5fcd02ca9d32"
   },
   "outputs": [
    {
     "data": {
      "text/html": [
       "<div>\n",
       "<style scoped>\n",
       "    .dataframe tbody tr th:only-of-type {\n",
       "        vertical-align: middle;\n",
       "    }\n",
       "\n",
       "    .dataframe tbody tr th {\n",
       "        vertical-align: top;\n",
       "    }\n",
       "\n",
       "    .dataframe thead th {\n",
       "        text-align: right;\n",
       "    }\n",
       "</style>\n",
       "<table border=\"1\" class=\"dataframe\">\n",
       "  <thead>\n",
       "    <tr style=\"text-align: right;\">\n",
       "      <th></th>\n",
       "      <th>Sub-product</th>\n",
       "      <th>Consumer complaint narrative</th>\n",
       "      <th>stemmed narrative</th>\n",
       "      <th>labels</th>\n",
       "    </tr>\n",
       "  </thead>\n",
       "  <tbody>\n",
       "    <tr>\n",
       "      <th>0</th>\n",
       "      <td>General-purpose credit card or charge card</td>\n",
       "      <td>CITI BANK in his response to XXXX asked me idi...</td>\n",
       "      <td>citi bank respons  ask idiot question inapplic...</td>\n",
       "      <td>14</td>\n",
       "    </tr>\n",
       "    <tr>\n",
       "      <th>1</th>\n",
       "      <td>Other debt</td>\n",
       "      <td>THIS ACCOUNT IS A RESULT OF IDENTITY THEFT.</td>\n",
       "      <td>account result ident theft</td>\n",
       "      <td>28</td>\n",
       "    </tr>\n",
       "    <tr>\n",
       "      <th>2</th>\n",
       "      <td>Other debt</td>\n",
       "      <td>Pro Collect has sent documents that dont match...</td>\n",
       "      <td>pro collect sent document dont match move date...</td>\n",
       "      <td>28</td>\n",
       "    </tr>\n",
       "    <tr>\n",
       "      <th>3</th>\n",
       "      <td>Medical debt</td>\n",
       "      <td>On XX/XX/2019 I sent PlusFour Inc a certified ...</td>\n",
       "      <td>2019 sent plusfour inc certifi letter via usp ...</td>\n",
       "      <td>23</td>\n",
       "    </tr>\n",
       "    <tr>\n",
       "      <th>4</th>\n",
       "      <td>Credit card debt</td>\n",
       "      <td>Client Services is reporting negative informat...</td>\n",
       "      <td>client servic report neg inform credit report ...</td>\n",
       "      <td>5</td>\n",
       "    </tr>\n",
       "  </tbody>\n",
       "</table>\n",
       "</div>"
      ],
      "text/plain": [
       "                                  Sub-product  ... labels\n",
       "0  General-purpose credit card or charge card  ...     14\n",
       "1                                  Other debt  ...     28\n",
       "2                                  Other debt  ...     28\n",
       "3                                Medical debt  ...     23\n",
       "4                            Credit card debt  ...      5\n",
       "\n",
       "[5 rows x 4 columns]"
      ]
     },
     "execution_count": 8,
     "metadata": {
      "tags": []
     },
     "output_type": "execute_result"
    }
   ],
   "source": [
    "from sklearn.preprocessing import LabelEncoder\n",
    "\n",
    "le = LabelEncoder()\n",
    "df['labels'] = le.fit_transform(df['Sub-product'])\n",
    "df.head()"
   ]
  },
  {
   "cell_type": "markdown",
   "metadata": {
    "colab_type": "text",
    "id": "AfcWB0G5FcIX"
   },
   "source": [
    "### Load FastText Pre-trained Word Embeddings"
   ]
  },
  {
   "cell_type": "code",
   "execution_count": 9,
   "metadata": {
    "colab": {},
    "colab_type": "code",
    "id": "ICdSzVKavw4K"
   },
   "outputs": [],
   "source": [
    "def load_embeddings(filename):\n",
    "    embeddings = {}\n",
    "    with open(filename) as f:\n",
    "        for line in f:\n",
    "            values = line.rstrip().split(' ')\n",
    "            word = values[0]\n",
    "            vector = np.asarray(values[1:], dtype='float32')\n",
    "            embeddings[word] = vector\n",
    "    return embeddings\n",
    "embeddings = load_embeddings('gdrive/My Drive/IBM/crawl-300d-2M.vec')\n",
    "\n",
    "def filter_embeddings(embeddings, word_index, vocab_size, dim=300):\n",
    "    embedding_matrix = np.full([vocab_size, dim],0)\n",
    "    for word, i in word_index.items():\n",
    "        if i >= vocab_size:\n",
    "            continue\n",
    "        vector = embeddings.get(word)\n",
    "        if vector is not None:\n",
    "            embedding_matrix[i] = vector\n",
    "    return embedding_matrix"
   ]
  },
  {
   "cell_type": "markdown",
   "metadata": {
    "colab_type": "text",
    "id": "StdihfiLFmKG"
   },
   "source": [
    "Tokenize."
   ]
  },
  {
   "cell_type": "code",
   "execution_count": 10,
   "metadata": {
    "colab": {
     "base_uri": "https://localhost:8080/",
     "height": 34
    },
    "colab_type": "code",
    "id": "Hc7uGui-GZnN",
    "outputId": "93aa5566-b0e0-44ed-cc71-0dfddf2c2448"
   },
   "outputs": [
    {
     "name": "stderr",
     "output_type": "stream",
     "text": [
      "Using TensorFlow backend.\n"
     ]
    }
   ],
   "source": [
    "from keras.preprocessing.text import Tokenizer\n",
    "tokenizer = Tokenizer()\n",
    "tokenizer.fit_on_texts(list(df['stemmed narrative']))"
   ]
  },
  {
   "cell_type": "code",
   "execution_count": 11,
   "metadata": {
    "colab": {
     "base_uri": "https://localhost:8080/",
     "height": 34
    },
    "colab_type": "code",
    "id": "Jdv92r--G3Gb",
    "outputId": "c4f4ff23-3edf-486a-ee7a-fd2e8e9dee5c"
   },
   "outputs": [
    {
     "data": {
      "text/plain": [
       "108913"
      ]
     },
     "execution_count": 11,
     "metadata": {
      "tags": []
     },
     "output_type": "execute_result"
    }
   ],
   "source": [
    "num_words = len(tokenizer.word_index)\n",
    "num_words"
   ]
  },
  {
   "cell_type": "markdown",
   "metadata": {
    "colab_type": "text",
    "id": "Hh3cQ0qaFq60"
   },
   "source": [
    "Train test split."
   ]
  },
  {
   "cell_type": "code",
   "execution_count": 12,
   "metadata": {
    "colab": {},
    "colab_type": "code",
    "id": "UWu4m7AgHZ--"
   },
   "outputs": [],
   "source": [
    "from sklearn.model_selection import train_test_split\n",
    "X_train, X_test, y_train, y_test = train_test_split(df['stemmed narrative'], df['labels'], stratify = df['labels'], test_size = 0.1, random_state = 0)"
   ]
  },
  {
   "cell_type": "code",
   "execution_count": 13,
   "metadata": {
    "colab": {},
    "colab_type": "code",
    "id": "GvM-I4RIHkij"
   },
   "outputs": [],
   "source": [
    "X_train = tokenizer.texts_to_sequences(X_train)\n",
    "X_test = tokenizer.texts_to_sequences(X_test)"
   ]
  },
  {
   "cell_type": "code",
   "execution_count": 14,
   "metadata": {
    "colab": {
     "base_uri": "https://localhost:8080/",
     "height": 34
    },
    "colab_type": "code",
    "id": "kZm369jYwNMm",
    "outputId": "cc9d8afa-a42d-41ed-c7b2-5a1f076b75df"
   },
   "outputs": [
    {
     "name": "stdout",
     "output_type": "stream",
     "text": [
      "OOV: 78222\n"
     ]
    }
   ],
   "source": [
    "embedding_size = 300\n",
    "vocab_size = len(tokenizer.word_index) + 1 # 1 for padding\n",
    "embedding_matrix = filter_embeddings(embeddings, tokenizer.word_index, vocab_size, embedding_size)\n",
    "oov = len(set(tokenizer.word_index) - set(embeddings))\n",
    "print('OOV: {}'.format(oov))"
   ]
  },
  {
   "cell_type": "code",
   "execution_count": 15,
   "metadata": {
    "colab": {
     "base_uri": "https://localhost:8080/",
     "height": 34
    },
    "colab_type": "code",
    "id": "zxwtv8q0GUJP",
    "outputId": "9cd2b8c7-114e-4ef4-8e78-74ee9f8751f5"
   },
   "outputs": [
    {
     "data": {
      "text/plain": [
       "0.7182062747330438"
      ]
     },
     "execution_count": 15,
     "metadata": {
      "tags": []
     },
     "output_type": "execute_result"
    }
   ],
   "source": [
    "# percentage out of vocabulary\n",
    "oov/num_words"
   ]
  },
  {
   "cell_type": "markdown",
   "metadata": {
    "colab_type": "text",
    "id": "sKwVoXe8Gwrw"
   },
   "source": [
    "### Pad Sequences"
   ]
  },
  {
   "cell_type": "code",
   "execution_count": 16,
   "metadata": {
    "colab": {
     "base_uri": "https://localhost:8080/",
     "height": 734
    },
    "colab_type": "code",
    "id": "2d0pi5TpHl7i",
    "outputId": "7e06524d-e561-4a85-cbb1-fed22c023bfd"
   },
   "outputs": [
    {
     "name": "stderr",
     "output_type": "stream",
     "text": [
      "/usr/local/lib/python3.6/dist-packages/statsmodels/tools/_testing.py:19: FutureWarning: pandas.util.testing is deprecated. Use the functions in the public API at pandas.testing instead.\n",
      "  import pandas.util.testing as tm\n"
     ]
    },
    {
     "data": {
      "image/png": "[encoded data removed]",
      "text/plain": [
       "<Figure size 1440x864 with 2 Axes>"
      ]
     },
     "metadata": {
      "needs_background": "light",
      "tags": []
     },
     "output_type": "display_data"
    }
   ],
   "source": [
    "import matplotlib.pylab as plt\n",
    "import seaborn as sns\n",
    "fig, axes = plt.subplots(2,1,figsize = (20,12))\n",
    "sns.distplot(pd.Series(X_test).apply(lambda x: len(x)), ax = axes[0])\n",
    "sns.distplot(pd.Series(X_train).apply(lambda x: len(x)), ax = axes[1]);"
   ]
  },
  {
   "cell_type": "code",
   "execution_count": 17,
   "metadata": {
    "colab": {},
    "colab_type": "code",
    "id": "EOnfDSPWH11k"
   },
   "outputs": [],
   "source": [
    "from keras.preprocessing.sequence import pad_sequences\n",
    "maxlen = 500\n",
    "X_train = pad_sequences(X_train,maxlen = maxlen)\n",
    "X_test = pad_sequences(X_test,maxlen = maxlen)"
   ]
  },
  {
   "cell_type": "markdown",
   "metadata": {
    "colab_type": "text",
    "id": "uqD1LFCUI1V2"
   },
   "source": [
    "### Build and Fit LSTM Model on Stemmed Narratives"
   ]
  },
  {
   "cell_type": "code",
   "execution_count": 17,
   "metadata": {
    "colab": {
     "base_uri": "https://localhost:8080/",
     "height": 652
    },
    "colab_type": "code",
    "id": "2oEgep3bIBU2",
    "outputId": "e7075011-5f56-42a9-f662-7b207fa33d97"
   },
   "outputs": [
    {
     "name": "stdout",
     "output_type": "stream",
     "text": [
      "Model: \"sequential_3\"\n",
      "_________________________________________________________________\n",
      "Layer (type)                 Output Shape              Param #   \n",
      "=================================================================\n",
      "embedding_3 (Embedding)      (None, 500, 300)          32674200  \n",
      "_________________________________________________________________\n",
      "bidirectional_3 (Bidirection (None, 500, 100)          140400    \n",
      "_________________________________________________________________\n",
      "flatten_3 (Flatten)          (None, 50000)             0         \n",
      "_________________________________________________________________\n",
      "dense_5 (Dense)              (None, 64)                3200064   \n",
      "_________________________________________________________________\n",
      "dropout_3 (Dropout)          (None, 64)                0         \n",
      "_________________________________________________________________\n",
      "dense_6 (Dense)              (None, 47)                3055      \n",
      "=================================================================\n",
      "Total params: 36,017,719\n",
      "Trainable params: 36,017,719\n",
      "Non-trainable params: 0\n",
      "_________________________________________________________________\n"
     ]
    },
    {
     "name": "stderr",
     "output_type": "stream",
     "text": [
      "/usr/local/lib/python3.6/dist-packages/tensorflow/python/framework/indexed_slices.py:434: UserWarning: Converting sparse IndexedSlices to a dense Tensor of unknown shape. This may consume a large amount of memory.\n",
      "  \"Converting sparse IndexedSlices to a dense Tensor of unknown shape. \"\n"
     ]
    },
    {
     "name": "stdout",
     "output_type": "stream",
     "text": [
      "Train on 297726 samples, validate on 6077 samples\n",
      "Epoch 1/3\n",
      "297726/297726 [==============================] - 5480s 18ms/step - loss: 1.4481 - acc: 0.6223 - val_loss: 0.9909 - val_acc: 0.7086\n",
      "\n",
      "Epoch 00001: val_loss improved from inf to 0.99093, saving model to best.h5\n",
      "Epoch 2/3\n",
      "297726/297726 [==============================] - 5512s 19ms/step - loss: 0.9432 - acc: 0.7246 - val_loss: 0.8764 - val_acc: 0.7384\n",
      "\n",
      "Epoch 00002: val_loss improved from 0.99093 to 0.87640, saving model to best.h5\n",
      "Epoch 3/3\n",
      "297726/297726 [==============================] - 5330s 18ms/step - loss: 0.8115 - acc: 0.7570 - val_loss: 0.8646 - val_acc: 0.7456\n",
      "\n",
      "Epoch 00003: val_loss improved from 0.87640 to 0.86458, saving model to best.h5\n"
     ]
    },
    {
     "data": {
      "text/plain": [
       "<keras.callbacks.callbacks.History at 0x7f044fc849e8>"
      ]
     },
     "execution_count": 17,
     "metadata": {
      "tags": []
     },
     "output_type": "execute_result"
    }
   ],
   "source": [
    "from keras import Sequential\n",
    "from keras.layers import Embedding, Flatten, Dense, Dropout, LSTM, Bidirectional\n",
    "from keras.callbacks import ModelCheckpoint\n",
    "model_ckpnt = ModelCheckpoint(\"best.h5\",verbose = 1, save_best_only = True)\n",
    "model = Sequential()\n",
    "model.add(Embedding(len(tokenizer.word_index) + 1, 300, input_length = maxlen))\n",
    "model.add(Bidirectional(LSTM(50, return_sequences = True)))\n",
    "model.add(Flatten())\n",
    "model.add(Dense(64, activation = 'relu'))\n",
    "model.add(Dropout(0.2))\n",
    "model.add(Dense(47, activation = 'softmax'))\n",
    "model.summary()\n",
    "model.compile(loss = 'sparse_categorical_crossentropy', optimizer = 'adam', metrics = ['acc'])\n",
    "model.fit(X_train, y_train, epochs = 3, batch_size = 1024, validation_split=0.02, callbacks=[model_ckpnt]) # add callbacks"
   ]
  },
  {
   "cell_type": "markdown",
   "metadata": {
    "colab_type": "text",
    "id": "XzpHg8x4QJbV"
   },
   "source": [
    "### Evaluate"
   ]
  },
  {
   "cell_type": "code",
   "execution_count": 18,
   "metadata": {
    "colab": {
     "base_uri": "https://localhost:8080/",
     "height": 34
    },
    "colab_type": "code",
    "id": "6TAF0hPGIDWp",
    "outputId": "45064143-9bc2-429a-e040-4c7621856dc2"
   },
   "outputs": [
    {
     "name": "stdout",
     "output_type": "stream",
     "text": [
      "33756/33756 [==============================] - 162s 5ms/step\n"
     ]
    }
   ],
   "source": [
    "model.load_weights('best.h5')\n",
    "preds = model.predict(X_test, batch_size = 1024, verbose = 1)"
   ]
  },
  {
   "cell_type": "code",
   "execution_count": 19,
   "metadata": {
    "colab": {},
    "colab_type": "code",
    "id": "Q_KhGfnGtiUl"
   },
   "outputs": [],
   "source": [
    "preds = preds.argmax(1)"
   ]
  },
  {
   "cell_type": "code",
   "execution_count": 20,
   "metadata": {
    "colab": {
     "base_uri": "https://localhost:8080/",
     "height": 34
    },
    "colab_type": "code",
    "id": "PHQhNx2Qtn8h",
    "outputId": "2c552c3d-d2ad-42c5-d861-ffc44e010ee7"
   },
   "outputs": [
    {
     "data": {
      "text/plain": [
       "0.7377355136864557"
      ]
     },
     "execution_count": 20,
     "metadata": {
      "tags": []
     },
     "output_type": "execute_result"
    }
   ],
   "source": [
    "# Accuracy\n",
    "sum(preds == y_test)/len(y_test)"
   ]
  },
  {
   "cell_type": "code",
   "execution_count": 22,
   "metadata": {
    "colab": {
     "base_uri": "https://localhost:8080/",
     "height": 34
    },
    "colab_type": "code",
    "id": "mDQfX2V7s1YN",
    "outputId": "d72aafd8-d2b2-4647-c50c-c8c17d9892b9"
   },
   "outputs": [
    {
     "data": {
      "text/plain": [
       "0.7168703132756683"
      ]
     },
     "execution_count": 22,
     "metadata": {
      "tags": []
     },
     "output_type": "execute_result"
    }
   ],
   "source": [
    "#Weighted F1\n",
    "from sklearn.metrics import f1_score\n",
    "f1_weighted = f1_score(y_test, preds, average='weighted')\n",
    "f1_weighted"
   ]
  },
  {
   "cell_type": "code",
   "execution_count": 23,
   "metadata": {
    "colab": {
     "base_uri": "https://localhost:8080/",
     "height": 34
    },
    "colab_type": "code",
    "id": "6Km1TVkxuCQ3",
    "outputId": "02589aa4-5000-42f6-a070-8ff239692971"
   },
   "outputs": [
    {
     "data": {
      "text/plain": [
       "0.7377355136864557"
      ]
     },
     "execution_count": 23,
     "metadata": {
      "tags": []
     },
     "output_type": "execute_result"
    }
   ],
   "source": [
    "# Micro F1\n",
    "from sklearn.metrics import f1_score\n",
    "f1_micro = f1_score(y_test, preds, average='micro')\n",
    "f1_micro"
   ]
  },
  {
   "cell_type": "code",
   "execution_count": 25,
   "metadata": {},
   "outputs": [
    {
     "data": {
      "text/html": [
       "<div>\n",
       "<style scoped>\n",
       "    .dataframe tbody tr th:only-of-type {\n",
       "        vertical-align: middle;\n",
       "    }\n",
       "\n",
       "    .dataframe tbody tr th {\n",
       "        vertical-align: top;\n",
       "    }\n",
       "\n",
       "    .dataframe thead th {\n",
       "        text-align: right;\n",
       "    }\n",
       "</style>\n",
       "<table border=\"1\" class=\"dataframe\">\n",
       "  <thead>\n",
       "    <tr style=\"text-align: right;\">\n",
       "      <th></th>\n",
       "      <th>scores</th>\n",
       "    </tr>\n",
       "  </thead>\n",
       "  <tbody>\n",
       "    <tr>\n",
       "      <th>accuracy</th>\n",
       "      <td>0.737736</td>\n",
       "    </tr>\n",
       "    <tr>\n",
       "      <th>f1 weighted</th>\n",
       "      <td>0.716870</td>\n",
       "    </tr>\n",
       "    <tr>\n",
       "      <th>f1 micro</th>\n",
       "      <td>0.737736</td>\n",
       "    </tr>\n",
       "  </tbody>\n",
       "</table>\n",
       "</div>"
      ],
      "text/plain": [
       "               scores\n",
       "accuracy     0.737736\n",
       "f1 weighted  0.716870\n",
       "f1 micro     0.737736"
      ]
     },
     "execution_count": 25,
     "metadata": {},
     "output_type": "execute_result"
    }
   ],
   "source": [
    "stemmed_eval = pd.DataFrame.from_dict({'accuracy':accuracy, 'f1 weighted':f1_weighted, 'f1 micro':f1_micro}, orient='index',columns=['scores'])\n",
    "stemmed_eval"
   ]
  },
  {
   "cell_type": "markdown",
   "metadata": {
    "colab_type": "text",
    "id": "98p8LKIZKt3F"
   },
   "source": [
    "### Load Lemmatized Narratives and Process"
   ]
  },
  {
   "cell_type": "code",
   "execution_count": 18,
   "metadata": {
    "colab": {},
    "colab_type": "code",
    "id": "jtT1vrsOv1bZ"
   },
   "outputs": [],
   "source": [
    "df2=pd.read_csv('gdrive/My Drive/IBM/lemmatized.csv')\n",
    "df2['stemmed narrative'] = df2['stemmed narrative'].astype(str)"
   ]
  },
  {
   "cell_type": "markdown",
   "metadata": {
    "colab_type": "text",
    "id": "RdQB0rpWQdLe"
   },
   "source": [
    "Label categories."
   ]
  },
  {
   "cell_type": "code",
   "execution_count": 19,
   "metadata": {
    "colab": {
     "base_uri": "https://localhost:8080/",
     "height": 198
    },
    "colab_type": "code",
    "id": "6Ac73QLgNlHl",
    "outputId": "ceb61766-2abb-4d60-daad-7525a647bc01"
   },
   "outputs": [
    {
     "data": {
      "text/html": [
       "<div>\n",
       "<style scoped>\n",
       "    .dataframe tbody tr th:only-of-type {\n",
       "        vertical-align: middle;\n",
       "    }\n",
       "\n",
       "    .dataframe tbody tr th {\n",
       "        vertical-align: top;\n",
       "    }\n",
       "\n",
       "    .dataframe thead th {\n",
       "        text-align: right;\n",
       "    }\n",
       "</style>\n",
       "<table border=\"1\" class=\"dataframe\">\n",
       "  <thead>\n",
       "    <tr style=\"text-align: right;\">\n",
       "      <th></th>\n",
       "      <th>Sub-product</th>\n",
       "      <th>Consumer complaint narrative</th>\n",
       "      <th>stemmed narrative</th>\n",
       "      <th>labels</th>\n",
       "    </tr>\n",
       "  </thead>\n",
       "  <tbody>\n",
       "    <tr>\n",
       "      <th>0</th>\n",
       "      <td>General-purpose credit card or charge card</td>\n",
       "      <td>CITI BANK in his response to XXXX asked me idi...</td>\n",
       "      <td>citi bank response  asked idiotic question ina...</td>\n",
       "      <td>14</td>\n",
       "    </tr>\n",
       "    <tr>\n",
       "      <th>1</th>\n",
       "      <td>Other debt</td>\n",
       "      <td>THIS ACCOUNT IS A RESULT OF IDENTITY THEFT.</td>\n",
       "      <td>account result identity theft</td>\n",
       "      <td>28</td>\n",
       "    </tr>\n",
       "    <tr>\n",
       "      <th>2</th>\n",
       "      <td>Other debt</td>\n",
       "      <td>Pro Collect has sent documents that dont match...</td>\n",
       "      <td>pro collect sent document dont match move date...</td>\n",
       "      <td>28</td>\n",
       "    </tr>\n",
       "    <tr>\n",
       "      <th>3</th>\n",
       "      <td>Medical debt</td>\n",
       "      <td>On XX/XX/2019 I sent PlusFour Inc a certified ...</td>\n",
       "      <td>2019 sent plusfour inc certified letter via us...</td>\n",
       "      <td>23</td>\n",
       "    </tr>\n",
       "    <tr>\n",
       "      <th>4</th>\n",
       "      <td>Credit card debt</td>\n",
       "      <td>Client Services is reporting negative informat...</td>\n",
       "      <td>client service reporting negative information ...</td>\n",
       "      <td>5</td>\n",
       "    </tr>\n",
       "  </tbody>\n",
       "</table>\n",
       "</div>"
      ],
      "text/plain": [
       "                                  Sub-product  ... labels\n",
       "0  General-purpose credit card or charge card  ...     14\n",
       "1                                  Other debt  ...     28\n",
       "2                                  Other debt  ...     28\n",
       "3                                Medical debt  ...     23\n",
       "4                            Credit card debt  ...      5\n",
       "\n",
       "[5 rows x 4 columns]"
      ]
     },
     "execution_count": 19,
     "metadata": {
      "tags": []
     },
     "output_type": "execute_result"
    }
   ],
   "source": [
    "le = LabelEncoder()\n",
    "df2['labels'] = le.fit_transform(df2['Sub-product'])\n",
    "df2.head()"
   ]
  },
  {
   "cell_type": "markdown",
   "metadata": {
    "colab_type": "text",
    "id": "chO1lS-QQgIw"
   },
   "source": [
    "Tokenize."
   ]
  },
  {
   "cell_type": "code",
   "execution_count": 20,
   "metadata": {
    "colab": {},
    "colab_type": "code",
    "id": "Dc6zall1Nlrv"
   },
   "outputs": [],
   "source": [
    "tokenizer = Tokenizer()\n",
    "tokenizer.fit_on_texts(list(df2['stemmed narrative']))"
   ]
  },
  {
   "cell_type": "code",
   "execution_count": 21,
   "metadata": {
    "colab": {
     "base_uri": "https://localhost:8080/",
     "height": 34
    },
    "colab_type": "code",
    "id": "5Fd1e7nAN1_n",
    "outputId": "5512b95a-ec8d-4cad-9b0d-050c5943787a"
   },
   "outputs": [
    {
     "data": {
      "text/plain": [
       "132563"
      ]
     },
     "execution_count": 21,
     "metadata": {
      "tags": []
     },
     "output_type": "execute_result"
    }
   ],
   "source": [
    "num_words = len(tokenizer.word_index)\n",
    "num_words"
   ]
  },
  {
   "cell_type": "markdown",
   "metadata": {
    "colab_type": "text",
    "id": "RpEBen2wQjfy"
   },
   "source": [
    "Train test split and load fastText embeddings."
   ]
  },
  {
   "cell_type": "code",
   "execution_count": 22,
   "metadata": {
    "colab": {},
    "colab_type": "code",
    "id": "waLMH5JQN5_H"
   },
   "outputs": [],
   "source": [
    "X_train_2, X_test_2, y_train_2, y_test_2 = train_test_split(df2['stemmed narrative'], df2['labels'], stratify = df2['labels'], test_size = 0.1, random_state = 0)\n",
    "X_train_2 = tokenizer.texts_to_sequences(X_train_2)\n",
    "X_test_2 = tokenizer.texts_to_sequences(X_test_2)"
   ]
  },
  {
   "cell_type": "code",
   "execution_count": 23,
   "metadata": {
    "colab": {
     "base_uri": "https://localhost:8080/",
     "height": 34
    },
    "colab_type": "code",
    "id": "cvC3eLBeORmq",
    "outputId": "1bd0a3d2-e855-465a-e7e1-eacef359417a"
   },
   "outputs": [
    {
     "name": "stdout",
     "output_type": "stream",
     "text": [
      "OOV: 76126\n"
     ]
    }
   ],
   "source": [
    "embedding_size = 300\n",
    "vocab_size = len(tokenizer.word_index) + 1 # 1 for padding\n",
    "embedding_matrix = filter_embeddings(embeddings, tokenizer.word_index, vocab_size, embedding_size)\n",
    "oov = len(set(tokenizer.word_index) - set(embeddings))\n",
    "print('OOV: {}'.format(oov))"
   ]
  },
  {
   "cell_type": "code",
   "execution_count": 24,
   "metadata": {
    "colab": {
     "base_uri": "https://localhost:8080/",
     "height": 34
    },
    "colab_type": "code",
    "id": "2TO2JQ4IOaXV",
    "outputId": "7c59c79d-aaa7-41e1-aad6-e0e862f7f97c"
   },
   "outputs": [
    {
     "data": {
      "text/plain": [
       "0.5742628033463334"
      ]
     },
     "execution_count": 24,
     "metadata": {
      "tags": []
     },
     "output_type": "execute_result"
    }
   ],
   "source": [
    "# percentage out of vocabulary\n",
    "oov/num_words"
   ]
  },
  {
   "cell_type": "code",
   "execution_count": 25,
   "metadata": {
    "colab": {},
    "colab_type": "code",
    "id": "Uw2D_7v4OfDt"
   },
   "outputs": [],
   "source": [
    "X_train_2 = pad_sequences(X_train_2,maxlen = maxlen)\n",
    "X_test_2 = pad_sequences(X_test_2,maxlen = maxlen)"
   ]
  },
  {
   "cell_type": "markdown",
   "metadata": {
    "colab_type": "text",
    "id": "uf7ymbiFQwsf"
   },
   "source": [
    "### Build and Fit LSTM Model on Lemmatized Narratives"
   ]
  },
  {
   "cell_type": "code",
   "execution_count": 26,
   "metadata": {
    "colab": {
     "base_uri": "https://localhost:8080/",
     "height": 652
    },
    "colab_type": "code",
    "id": "bJCDtV52OriB",
    "outputId": "fa1a402e-4ad5-4980-eca7-e7c3e22bec39"
   },
   "outputs": [
    {
     "name": "stdout",
     "output_type": "stream",
     "text": [
      "Model: \"sequential_1\"\n",
      "_________________________________________________________________\n",
      "Layer (type)                 Output Shape              Param #   \n",
      "=================================================================\n",
      "embedding_1 (Embedding)      (None, 500, 300)          39769200  \n",
      "_________________________________________________________________\n",
      "bidirectional_1 (Bidirection (None, 500, 100)          140400    \n",
      "_________________________________________________________________\n",
      "flatten_1 (Flatten)          (None, 50000)             0         \n",
      "_________________________________________________________________\n",
      "dense_1 (Dense)              (None, 64)                3200064   \n",
      "_________________________________________________________________\n",
      "dropout_1 (Dropout)          (None, 64)                0         \n",
      "_________________________________________________________________\n",
      "dense_2 (Dense)              (None, 47)                3055      \n",
      "=================================================================\n",
      "Total params: 43,112,719\n",
      "Trainable params: 43,112,719\n",
      "Non-trainable params: 0\n",
      "_________________________________________________________________\n"
     ]
    },
    {
     "name": "stderr",
     "output_type": "stream",
     "text": [
      "/usr/local/lib/python3.6/dist-packages/tensorflow/python/framework/indexed_slices.py:434: UserWarning: Converting sparse IndexedSlices to a dense Tensor of unknown shape. This may consume a large amount of memory.\n",
      "  \"Converting sparse IndexedSlices to a dense Tensor of unknown shape. \"\n"
     ]
    },
    {
     "name": "stdout",
     "output_type": "stream",
     "text": [
      "Train on 297726 samples, validate on 6077 samples\n",
      "Epoch 1/3\n",
      "297726/297726 [==============================] - 5102s 17ms/step - loss: 1.4572 - acc: 0.6235 - val_loss: 0.9728 - val_acc: 0.7120\n",
      "\n",
      "Epoch 00001: val_loss improved from inf to 0.97283, saving model to best2.h5\n",
      "Epoch 2/3\n",
      "297726/297726 [==============================] - 5099s 17ms/step - loss: 0.9211 - acc: 0.7296 - val_loss: 0.8933 - val_acc: 0.7369\n",
      "\n",
      "Epoch 00002: val_loss improved from 0.97283 to 0.89331, saving model to best2.h5\n",
      "Epoch 3/3\n",
      "297726/297726 [==============================] - 5190s 17ms/step - loss: 0.7751 - acc: 0.7673 - val_loss: 0.8623 - val_acc: 0.7446\n",
      "\n",
      "Epoch 00003: val_loss improved from 0.89331 to 0.86228, saving model to best2.h5\n"
     ]
    },
    {
     "data": {
      "text/plain": [
       "<keras.callbacks.callbacks.History at 0x7f1571d16a58>"
      ]
     },
     "execution_count": 26,
     "metadata": {
      "tags": []
     },
     "output_type": "execute_result"
    }
   ],
   "source": [
    "from keras import Sequential\n",
    "from keras.layers import Embedding, Flatten, Dense, Dropout, LSTM, Bidirectional\n",
    "from keras.callbacks import ModelCheckpoint\n",
    "model_ckpnt = ModelCheckpoint(\"best2.h5\",verbose = 1, save_best_only = True)\n",
    "model_2 = Sequential()\n",
    "model_2.add(Embedding(len(tokenizer.word_index) + 1, 300, input_length = maxlen))\n",
    "model_2.add(Bidirectional(LSTM(50, return_sequences = True)))\n",
    "model_2.add(Flatten())\n",
    "model_2.add(Dense(64, activation = 'relu'))\n",
    "model_2.add(Dropout(0.2))\n",
    "model_2.add(Dense(47, activation = 'softmax'))\n",
    "model_2.summary()\n",
    "model_2.compile(loss = 'sparse_categorical_crossentropy', optimizer = 'adam', metrics = ['acc'])\n",
    "model_2.fit(X_train_2, y_train_2, epochs = 3, batch_size = 1024, validation_split=0.02, callbacks=[model_ckpnt]) # add callbacks"
   ]
  },
  {
   "cell_type": "markdown",
   "metadata": {
    "colab_type": "text",
    "id": "M1syGc8FQ7LD"
   },
   "source": [
    "### Evaluate"
   ]
  },
  {
   "cell_type": "code",
   "execution_count": 27,
   "metadata": {
    "colab": {
     "base_uri": "https://localhost:8080/",
     "height": 34
    },
    "colab_type": "code",
    "id": "3nAtctJDPACw",
    "outputId": "6c3bb6f8-2adc-4f9d-f2f0-edd4706bc551"
   },
   "outputs": [
    {
     "name": "stdout",
     "output_type": "stream",
     "text": [
      "33756/33756 [==============================] - 153s 5ms/step\n"
     ]
    }
   ],
   "source": [
    "model_2.load_weights('best2.h5')\n",
    "preds2 = model_2.predict(X_test_2, batch_size = 1024, verbose = 1)"
   ]
  },
  {
   "cell_type": "code",
   "execution_count": 28,
   "metadata": {
    "colab": {},
    "colab_type": "code",
    "id": "PjHd9rjoPC9b"
   },
   "outputs": [],
   "source": [
    "preds2= preds2.argmax(1)"
   ]
  },
  {
   "cell_type": "code",
   "execution_count": 30,
   "metadata": {
    "colab": {
     "base_uri": "https://localhost:8080/",
     "height": 34
    },
    "colab_type": "code",
    "id": "0ubPUfaWPUnO",
    "outputId": "6e6a79ac-2c71-4986-ba56-ea1c1072a8d9"
   },
   "outputs": [
    {
     "data": {
      "text/plain": [
       "0.7446676146462851"
      ]
     },
     "execution_count": 30,
     "metadata": {
      "tags": []
     },
     "output_type": "execute_result"
    }
   ],
   "source": [
    "# Accuracy\n",
    "sum(preds2 == y_test_2)/len(y_test_2)"
   ]
  },
  {
   "cell_type": "code",
   "execution_count": 31,
   "metadata": {
    "colab": {
     "base_uri": "https://localhost:8080/",
     "height": 34
    },
    "colab_type": "code",
    "id": "ax63cTSJPh9i",
    "outputId": "ab00f60d-d647-4411-ee5d-30d59c334567"
   },
   "outputs": [
    {
     "data": {
      "text/plain": [
       "0.7208350069344864"
      ]
     },
     "execution_count": 31,
     "metadata": {
      "tags": []
     },
     "output_type": "execute_result"
    }
   ],
   "source": [
    "# Weighted F1\n",
    "f1_weighted_2 = f1_score(y_test_2, preds2, average='weighted')\n",
    "f1_weighted_2"
   ]
  },
  {
   "cell_type": "code",
   "execution_count": 32,
   "metadata": {
    "colab": {
     "base_uri": "https://localhost:8080/",
     "height": 34
    },
    "colab_type": "code",
    "id": "4vGImRhTPip2",
    "outputId": "a73c0fc9-c14a-42ec-c874-539f49759023"
   },
   "outputs": [
    {
     "data": {
      "text/plain": [
       "0.7446676146462851"
      ]
     },
     "execution_count": 32,
     "metadata": {
      "tags": []
     },
     "output_type": "execute_result"
    }
   ],
   "source": [
    "# Micro F1\n",
    "f1_micro_2 = f1_score(y_test_2, preds2, average='micro')\n",
    "f1_micro_2"
   ]
  },
  {
   "cell_type": "code",
   "execution_count": 34,
   "metadata": {
    "colab": {
     "base_uri": "https://localhost:8080/",
     "height": 138
    },
    "colab_type": "code",
    "id": "VShWwqIoRUSA",
    "outputId": "dd196087-ffc4-41ba-c951-1b2f0a6750f5"
   },
   "outputs": [
    {
     "data": {
      "text/html": [
       "<div>\n",
       "<style scoped>\n",
       "    .dataframe tbody tr th:only-of-type {\n",
       "        vertical-align: middle;\n",
       "    }\n",
       "\n",
       "    .dataframe tbody tr th {\n",
       "        vertical-align: top;\n",
       "    }\n",
       "\n",
       "    .dataframe thead th {\n",
       "        text-align: right;\n",
       "    }\n",
       "</style>\n",
       "<table border=\"1\" class=\"dataframe\">\n",
       "  <thead>\n",
       "    <tr style=\"text-align: right;\">\n",
       "      <th></th>\n",
       "      <th>scores</th>\n",
       "    </tr>\n",
       "  </thead>\n",
       "  <tbody>\n",
       "    <tr>\n",
       "      <th>accuracy</th>\n",
       "      <td>0.744668</td>\n",
       "    </tr>\n",
       "    <tr>\n",
       "      <th>f1 weighted</th>\n",
       "      <td>0.720835</td>\n",
       "    </tr>\n",
       "    <tr>\n",
       "      <th>f1 micro</th>\n",
       "      <td>0.744668</td>\n",
       "    </tr>\n",
       "  </tbody>\n",
       "</table>\n",
       "</div>"
      ],
      "text/plain": [
       "               scores\n",
       "accuracy     0.744668\n",
       "f1 weighted  0.720835\n",
       "f1 micro     0.744668"
      ]
     },
     "execution_count": 34,
     "metadata": {
      "tags": []
     },
     "output_type": "execute_result"
    }
   ],
   "source": [
    "lemmatized_eval = pd.DataFrame.from_dict({'accuracy':accuracy2, 'f1 weighted':f1_weighted_2, 'f1 micro':f1_micro_2}, orient='index',columns=['scores'])\n",
    "lemmatized_eval"
   ]
  },
  {
   "cell_type": "code",
   "execution_count": null,
   "metadata": {
    "colab": {},
    "colab_type": "code",
    "id": "6heTqb5yr0Iq"
   },
   "outputs": [],
   "source": []
  }
 ],
 "metadata": {
  "colab": {
   "name": "IBM LSTM",
   "provenance": []
  },
  "kernelspec": {
   "display_name": "Python 3",
   "language": "python",
   "name": "python3"
  },
  "language_info": {
   "codemirror_mode": {
    "name": "ipython",
    "version": 3
   },
   "file_extension": ".py",
   "mimetype": "text/x-python",
   "name": "python",
   "nbconvert_exporter": "python",
   "pygments_lexer": "ipython3",
   "version": "3.7.3"
  }
 },
 "nbformat": 4,
 "nbformat_minor": 1
}
