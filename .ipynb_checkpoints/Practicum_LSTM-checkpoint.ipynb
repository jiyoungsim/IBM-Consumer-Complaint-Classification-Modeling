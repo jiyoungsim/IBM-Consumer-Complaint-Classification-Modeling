{
 "cells": [
  {
   "cell_type": "code",
   "execution_count": 0,
   "metadata": {
    "colab": {},
    "colab_type": "code",
    "id": "PEVeXQ_uFQdJ"
   },
   "outputs": [],
   "source": [
    "import pandas as pd\n",
    "import numpy as np"
   ]
  },
  {
   "cell_type": "code",
   "execution_count": 1,
   "metadata": {
    "colab": {
     "base_uri": "https://localhost:8080/",
     "height": 122
    },
    "colab_type": "code",
    "id": "uPS0FH5mFcCY",
    "outputId": "1fa2cf54-293d-46f9-99a3-847b48135e65"
   },
   "outputs": [],
   "source": [
    "# import data of stemmed narratives and sub-product categories\n",
    "df=pd.read_csv('df2.csv')"
   ]
  },
  {
   "cell_type": "code",
   "execution_count": 0,
   "metadata": {
    "colab": {
     "base_uri": "https://localhost:8080/",
     "height": 198
    },
    "colab_type": "code",
    "id": "xSIa0e1JFyZK",
    "outputId": "e3136628-235c-485d-da1f-a3730ec756ce"
   },
   "outputs": [
    {
     "data": {
      "text/html": [
       "<div>\n",
       "<style scoped>\n",
       "    .dataframe tbody tr th:only-of-type {\n",
       "        vertical-align: middle;\n",
       "    }\n",
       "\n",
       "    .dataframe tbody tr th {\n",
       "        vertical-align: top;\n",
       "    }\n",
       "\n",
       "    .dataframe thead th {\n",
       "        text-align: right;\n",
       "    }\n",
       "</style>\n",
       "<table border=\"1\" class=\"dataframe\">\n",
       "  <thead>\n",
       "    <tr style=\"text-align: right;\">\n",
       "      <th></th>\n",
       "      <th>Sub-product</th>\n",
       "      <th>Consumer complaint narrative</th>\n",
       "      <th>labels</th>\n",
       "      <th>tokenized narrative</th>\n",
       "      <th>stemmed narrative</th>\n",
       "    </tr>\n",
       "  </thead>\n",
       "  <tbody>\n",
       "    <tr>\n",
       "      <th>0</th>\n",
       "      <td>General-purpose credit card or charge card</td>\n",
       "      <td>CITI BANK in his response to XXXX asked me idi...</td>\n",
       "      <td>14</td>\n",
       "      <td>['citi', 'bank', 'respons', 'xxxx', 'ask', 'id...</td>\n",
       "      <td>citi bank respons ask idiot question inapplic ...</td>\n",
       "    </tr>\n",
       "    <tr>\n",
       "      <th>1</th>\n",
       "      <td>Other debt</td>\n",
       "      <td>THIS ACCOUNT IS A RESULT OF IDENTITY THEFT.</td>\n",
       "      <td>28</td>\n",
       "      <td>['account', 'result', 'ident', 'theft']</td>\n",
       "      <td>account result ident theft</td>\n",
       "    </tr>\n",
       "    <tr>\n",
       "      <th>2</th>\n",
       "      <td>Other debt</td>\n",
       "      <td>Pro Collect has sent documents that dont match...</td>\n",
       "      <td>28</td>\n",
       "      <td>['pro', 'collect', 'sent', 'document', 'dont',...</td>\n",
       "      <td>pro collect sent document dont match move date...</td>\n",
       "    </tr>\n",
       "    <tr>\n",
       "      <th>3</th>\n",
       "      <td>Medical debt</td>\n",
       "      <td>On XX/XX/2019 I sent PlusFour Inc a certified ...</td>\n",
       "      <td>23</td>\n",
       "      <td>['xxxx2019', 'sent', 'plusfour', 'inc', 'certi...</td>\n",
       "      <td>2019 sent plusfour inc certifi letter via usp ...</td>\n",
       "    </tr>\n",
       "    <tr>\n",
       "      <th>4</th>\n",
       "      <td>Credit card debt</td>\n",
       "      <td>Client Services is reporting negative informat...</td>\n",
       "      <td>5</td>\n",
       "      <td>['client', 'servic', 'report', 'neg', 'inform'...</td>\n",
       "      <td>client servic report neg inform credit report ...</td>\n",
       "    </tr>\n",
       "  </tbody>\n",
       "</table>\n",
       "</div>"
      ],
      "text/plain": [
       "                                  Sub-product  ...                                  stemmed narrative\n",
       "0  General-purpose credit card or charge card  ...  citi bank respons ask idiot question inapplic ...\n",
       "1                                  Other debt  ...                         account result ident theft\n",
       "2                                  Other debt  ...  pro collect sent document dont match move date...\n",
       "3                                Medical debt  ...  2019 sent plusfour inc certifi letter via usp ...\n",
       "4                            Credit card debt  ...  client servic report neg inform credit report ...\n",
       "\n",
       "[5 rows x 5 columns]"
      ]
     },
     "execution_count": 3,
     "metadata": {
      "tags": []
     },
     "output_type": "execute_result"
    }
   ],
   "source": [
    "df.head()"
   ]
  },
  {
   "cell_type": "code",
   "execution_count": 0,
   "metadata": {
    "colab": {},
    "colab_type": "code",
    "id": "sOBrBVWCHzVb"
   },
   "outputs": [],
   "source": [
    "df['stemmed narrative'] = df['stemmed narrative'].astype(str)"
   ]
  },
  {
   "cell_type": "code",
   "execution_count": 0,
   "metadata": {
    "colab": {},
    "colab_type": "code",
    "id": "ICdSzVKavw4K"
   },
   "outputs": [],
   "source": [
    "def load_embeddings(filename):\n",
    "    embeddings = {}\n",
    "    with open(filename) as f:\n",
    "        for line in f:\n",
    "            values = line.rstrip().split(' ')\n",
    "            word = values[0]\n",
    "            vector = np.asarray(values[1:], dtype='float32')\n",
    "            embeddings[word] = vector\n",
    "    return embeddings\n",
    "embeddings = load_embeddings('crawl-300d-2M.vec')\n",
    "\n",
    "def filter_embeddings(embeddings, word_index, vocab_size, dim=300):\n",
    "    embedding_matrix = np.full([vocab_size, dim],0)\n",
    "    for word, i in word_index.items():\n",
    "        if i >= vocab_size:\n",
    "            continue\n",
    "        vector = embeddings.get(word)\n",
    "        if vector is not None:\n",
    "            embedding_matrix[i] = vector\n",
    "    return embedding_matrix"
   ]
  },
  {
   "cell_type": "code",
   "execution_count": 0,
   "metadata": {
    "colab": {
     "base_uri": "https://localhost:8080/",
     "height": 80
    },
    "colab_type": "code",
    "id": "Hc7uGui-GZnN",
    "outputId": "632cf762-0a38-45c8-e64a-54bf1ca85550"
   },
   "outputs": [
    {
     "name": "stderr",
     "output_type": "stream",
     "text": [
      "Using TensorFlow backend.\n"
     ]
    },
    {
     "data": {
      "text/html": [
       "<p style=\"color: red;\">\n",
       "The default version of TensorFlow in Colab will soon switch to TensorFlow 2.x.<br>\n",
       "We recommend you <a href=\"https://www.tensorflow.org/guide/migrate\" target=\"_blank\">upgrade</a> now \n",
       "or ensure your notebook will continue to use TensorFlow 1.x via the <code>%tensorflow_version 1.x</code> magic:\n",
       "<a href=\"https://colab.research.google.com/notebooks/tensorflow_version.ipynb\" target=\"_blank\">more info</a>.</p>\n"
      ],
      "text/plain": [
       "<IPython.core.display.HTML object>"
      ]
     },
     "metadata": {
      "tags": []
     },
     "output_type": "display_data"
    }
   ],
   "source": [
    "from keras.preprocessing.text import Tokenizer\n",
    "tokenizer = Tokenizer()\n",
    "tokenizer.fit_on_texts(list(df['stemmed narrative']))"
   ]
  },
  {
   "cell_type": "code",
   "execution_count": 0,
   "metadata": {
    "colab": {
     "base_uri": "https://localhost:8080/",
     "height": 34
    },
    "colab_type": "code",
    "id": "Jdv92r--G3Gb",
    "outputId": "aad2780b-b37c-4354-d765-39fa9fe89cf3"
   },
   "outputs": [
    {
     "data": {
      "text/plain": [
       "110911"
      ]
     },
     "execution_count": 7,
     "metadata": {
      "tags": []
     },
     "output_type": "execute_result"
    }
   ],
   "source": [
    "len(tokenizer.word_index)"
   ]
  },
  {
   "cell_type": "code",
   "execution_count": 0,
   "metadata": {
    "colab": {},
    "colab_type": "code",
    "id": "UWu4m7AgHZ--"
   },
   "outputs": [],
   "source": [
    "from sklearn.model_selection import train_test_split\n",
    "X_train, X_test, y_train, y_test = train_test_split(df['stemmed narrative'], df['labels'], stratify = df['labels'], test_size = 0.1, random_state = 0)"
   ]
  },
  {
   "cell_type": "code",
   "execution_count": 0,
   "metadata": {
    "colab": {},
    "colab_type": "code",
    "id": "GvM-I4RIHkij"
   },
   "outputs": [],
   "source": [
    "X_train = tokenizer.texts_to_sequences(X_train)\n",
    "X_test = tokenizer.texts_to_sequences(X_test)"
   ]
  },
  {
   "cell_type": "code",
   "execution_count": 0,
   "metadata": {
    "colab": {
     "base_uri": "https://localhost:8080/",
     "height": 34
    },
    "colab_type": "code",
    "id": "kZm369jYwNMm",
    "outputId": "5d59b46d-8c64-4e54-b261-f6312b71bb6d"
   },
   "outputs": [
    {
     "name": "stdout",
     "output_type": "stream",
     "text": [
      "OOV: 80317\n"
     ]
    }
   ],
   "source": [
    "embedding_size = 300\n",
    "vocab_size = len(tokenizer.word_index) + 1 # 1 for padding\n",
    "embedding_matrix = filter_embeddings(embeddings, tokenizer.word_index, vocab_size, embedding_size)\n",
    "print('OOV: {}'.format(len(set(tokenizer.word_index) - set(embeddings))))"
   ]
  },
  {
   "cell_type": "code",
   "execution_count": 0,
   "metadata": {
    "colab": {
     "base_uri": "https://localhost:8080/",
     "height": 717
    },
    "colab_type": "code",
    "id": "2d0pi5TpHl7i",
    "outputId": "0e22d2e0-0049-46cd-b331-fcf5ee571636"
   },
   "outputs": [
    {
     "data": {
      "text/plain": [
       "<matplotlib.axes._subplots.AxesSubplot at 0x7fb7775e6cf8>"
      ]
     },
     "execution_count": 14,
     "metadata": {
      "tags": []
     },
     "output_type": "execute_result"
    },
    {
     "data": {
      "image/png": "[encoded data removed]",
      "text/plain": [
       "<Figure size 1440x864 with 2 Axes>"
      ]
     },
     "metadata": {
      "tags": []
     },
     "output_type": "display_data"
    }
   ],
   "source": [
    "import matplotlib.pylab as plt\n",
    "import seaborn as sns\n",
    "_, axes = plt.subplots(2,1,figsize = (20,12))\n",
    "sns.distplot(pd.Series(X_test).apply(lambda x: len(x)), ax = axes[0])\n",
    "sns.distplot(pd.Series(X_train).apply(lambda x: len(x)), ax = axes[1])"
   ]
  },
  {
   "cell_type": "code",
   "execution_count": 0,
   "metadata": {
    "colab": {},
    "colab_type": "code",
    "id": "EOnfDSPWH11k"
   },
   "outputs": [],
   "source": [
    "from keras.preprocessing.sequence import pad_sequences\n",
    "maxlen = 500\n",
    "X_train = pad_sequences(X_train,maxlen = maxlen)\n",
    "X_test = pad_sequences(X_test,maxlen = maxlen)"
   ]
  },
  {
   "cell_type": "code",
   "execution_count": 0,
   "metadata": {
    "colab": {
     "base_uri": "https://localhost:8080/",
     "height": 358
    },
    "colab_type": "code",
    "id": "2oEgep3bIBU2",
    "outputId": "5b56b323-5e41-4f6b-e7b0-a86534c754e1"
   },
   "outputs": [
    {
     "name": "stdout",
     "output_type": "stream",
     "text": [
      "Model: \"sequential_3\"\n",
      "_________________________________________________________________\n",
      "Layer (type)                 Output Shape              Param #   \n",
      "=================================================================\n",
      "embedding_3 (Embedding)      (None, 500, 100)          11091200  \n",
      "_________________________________________________________________\n",
      "bidirectional_3 (Bidirection (None, 500, 100)          60400     \n",
      "_________________________________________________________________\n",
      "flatten_3 (Flatten)          (None, 50000)             0         \n",
      "_________________________________________________________________\n",
      "dense_5 (Dense)              (None, 64)                3200064   \n",
      "_________________________________________________________________\n",
      "dropout_3 (Dropout)          (None, 64)                0         \n",
      "_________________________________________________________________\n",
      "dense_6 (Dense)              (None, 47)                3055      \n",
      "=================================================================\n",
      "Total params: 14,354,719\n",
      "Trainable params: 14,354,719\n",
      "Non-trainable params: 0\n",
      "_________________________________________________________________\n"
     ]
    }
   ],
   "source": [
    "from keras import Sequential\n",
    "from keras.layers import Embedding, Flatten, Dense, Dropout, LSTM, Bidirectional\n",
    "from keras.callbacks import EarlyStopping, ModelCheckpoint, ReduceLROnPlateau\n",
    "early_stop = EarlyStopping(patience = 3, verbose = 1, monitor = 'val_loss')\n",
    "model_ckpnt = ModelCheckpoint(\"best.h5\",verbose = 1, save_best_only = True)\n",
    "reduceLR = ReduceLROnPlateau(patience = 2, verbose = 1, factor = 0.1)\n",
    "model = Sequential()\n",
    "model.add(Embedding(len(tokenizer.word_index) + 1, 300, input_length = maxlen))\n",
    "model.add(Bidirectional(LSTM(50, return_sequences = True)))\n",
    "model.add(Flatten())\n",
    "model.add(Dense(64, activation = 'relu'))\n",
    "model.add(Dropout(0.2))\n",
    "model.add(Dense(47, activation = 'softmax'))\n",
    "model.summary()\n",
    "model.compile(loss = 'sparse_categorical_crossentropy', optimizer = 'adam', metrics = ['acc'])\n",
    "model.fit(X_train, y_train, epochs = 20, batch_size = 1024, validation_split=0.02, callbacks=[early_stop, model_ckpnt, reduceLR]) # add callbacks"
   ]
  },
  {
   "cell_type": "code",
   "execution_count": 0,
   "metadata": {
    "colab": {
     "base_uri": "https://localhost:8080/",
     "height": 34
    },
    "colab_type": "code",
    "id": "6TAF0hPGIDWp",
    "outputId": "54f73882-cd2d-4f35-f909-3424edddf948"
   },
   "outputs": [
    {
     "name": "stdout",
     "output_type": "stream",
     "text": [
      "35655/35655 [==============================] - 197s 6ms/step\n"
     ]
    }
   ],
   "source": [
    "# model.load_weights('best.h5')\n",
    "preds = model.predict(X_test, batch_size = 1024, verbose = 1)"
   ]
  },
  {
   "cell_type": "code",
   "execution_count": 0,
   "metadata": {
    "colab": {},
    "colab_type": "code",
    "id": "Q_KhGfnGtiUl"
   },
   "outputs": [],
   "source": [
    "preds = preds.argmax(1)"
   ]
  },
  {
   "cell_type": "code",
   "execution_count": 0,
   "metadata": {
    "colab": {
     "base_uri": "https://localhost:8080/",
     "height": 68
    },
    "colab_type": "code",
    "id": "mDQfX2V7s1YN",
    "outputId": "c41e9e3a-0c88-49b6-a430-0bacef52a082"
   },
   "outputs": [
    {
     "name": "stderr",
     "output_type": "stream",
     "text": [
      "/usr/local/lib/python3.6/dist-packages/sklearn/metrics/classification.py:1437: UndefinedMetricWarning: F-score is ill-defined and being set to 0.0 in labels with no predicted samples.\n",
      "  'precision', 'predicted', average, warn_for)\n"
     ]
    },
    {
     "data": {
      "text/plain": [
       "0.706563597707408"
      ]
     },
     "execution_count": 26,
     "metadata": {
      "tags": []
     },
     "output_type": "execute_result"
    }
   ],
   "source": [
    "from sklearn.metrics import f1_score\n",
    "f1_weighted = f1_score(y_test, preds, average='weighted')\n",
    "f1_weighted"
   ]
  },
  {
   "cell_type": "code",
   "execution_count": 0,
   "metadata": {
    "colab": {
     "base_uri": "https://localhost:8080/",
     "height": 34
    },
    "colab_type": "code",
    "id": "PHQhNx2Qtn8h",
    "outputId": "3408cf44-0be3-4176-b382-956afc59e2a7"
   },
   "outputs": [
    {
     "data": {
      "text/plain": [
       "0.7278642546627402"
      ]
     },
     "execution_count": 19,
     "metadata": {
      "tags": []
     },
     "output_type": "execute_result"
    }
   ],
   "source": [
    "sum(preds == y_test)/len(y_test)\n",
    "# 0.7278642546627402"
   ]
  },
  {
   "cell_type": "code",
   "execution_count": 0,
   "metadata": {
    "colab": {},
    "colab_type": "code",
    "id": "jtT1vrsOv1bZ"
   },
   "outputs": [],
   "source": []
  }
 ],
 "metadata": {
  "colab": {
   "name": "Practicum LSTM",
   "provenance": []
  },
  "kernelspec": {
   "display_name": "Python 3",
   "language": "python",
   "name": "python3"
  },
  "language_info": {
   "codemirror_mode": {
    "name": "ipython",
    "version": 3
   },
   "file_extension": ".py",
   "mimetype": "text/x-python",
   "name": "python",
   "nbconvert_exporter": "python",
   "pygments_lexer": "ipython3",
   "version": "3.7.3"
  }
 },
 "nbformat": 4,
 "nbformat_minor": 1
}
